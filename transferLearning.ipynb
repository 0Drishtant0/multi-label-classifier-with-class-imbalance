{
 "cells": [
  {
   "cell_type": "code",
   "execution_count": 1,
   "metadata": {},
   "outputs": [],
   "source": [
    "import numpy as np \n",
    "import pandas as pd\n",
    "import random\n",
    "import keras\n",
    "import torch\n",
    "import tensorflow as tf\n",
    "import optuna\n",
    "from optuna import Trial\n",
    "from sklearn.model_selection import train_test_split\n",
    "from sklearn.model_selection import KFold\n",
    "from keras.callbacks import EarlyStopping,ReduceLROnPlateau\n",
    "from sklearn.metrics import log_loss\n",
    "from sentence_transformers import SentenceTransformer\n",
    "import matplotlib.pyplot as plt\n",
    "from sklearn import metrics\n",
    "import os\n",
    "from sklearn.utils import compute_sample_weight\n"
   ]
  },
  {
   "cell_type": "code",
   "execution_count": 2,
   "metadata": {},
   "outputs": [
    {
     "data": {
      "text/plain": [
       "[PhysicalDevice(name='/physical_device:GPU:0', device_type='GPU')]"
      ]
     },
     "execution_count": 2,
     "metadata": {},
     "output_type": "execute_result"
    }
   ],
   "source": [
    "tf.config.list_physical_devices('GPU')"
   ]
  },
  {
   "cell_type": "code",
   "execution_count": 3,
   "metadata": {},
   "outputs": [],
   "source": [
    "SEED = 99\n",
    "def random_seed(SEED):\n",
    "    random.seed(SEED)\n",
    "    os.environ['PYTHONHASHSEED'] = str(SEED)\n",
    "    np.random.seed(SEED)\n",
    "    torch.manual_seed(SEED)\n",
    "    torch.cuda.manual_seed(SEED)\n",
    "    torch.cuda.manual_seed_all(SEED)\n",
    "    torch.backends.cudnn.deterministic = True\n",
    "    tf.random.set_seed(SEED)\n",
    "random_seed(SEED)"
   ]
  },
  {
   "cell_type": "code",
   "execution_count": 4,
   "metadata": {},
   "outputs": [
    {
     "data": {
      "text/html": [
       "<div>\n",
       "<style scoped>\n",
       "    .dataframe tbody tr th:only-of-type {\n",
       "        vertical-align: middle;\n",
       "    }\n",
       "\n",
       "    .dataframe tbody tr th {\n",
       "        vertical-align: top;\n",
       "    }\n",
       "\n",
       "    .dataframe thead th {\n",
       "        text-align: right;\n",
       "    }\n",
       "</style>\n",
       "<table border=\"1\" class=\"dataframe\">\n",
       "  <thead>\n",
       "    <tr style=\"text-align: right;\">\n",
       "      <th></th>\n",
       "      <th>post_title</th>\n",
       "      <th>post_text</th>\n",
       "      <th>annotations</th>\n",
       "    </tr>\n",
       "  </thead>\n",
       "  <tbody>\n",
       "    <tr>\n",
       "      <th>0</th>\n",
       "      <td>I don't feel original anymore.</td>\n",
       "      <td>When I was in high school a few years back, I ...</td>\n",
       "      <td>[[Feeling-bad-about-yourself-or-that-you-are-a...</td>\n",
       "    </tr>\n",
       "    <tr>\n",
       "      <th>1</th>\n",
       "      <td>I don’t have anyone to talk to and I don’t kno...</td>\n",
       "      <td>Nine years ago I was diagnosed with depression...</td>\n",
       "      <td>[[Feeling-bad-about-yourself-or-that-you-are-a...</td>\n",
       "    </tr>\n",
       "    <tr>\n",
       "      <th>2</th>\n",
       "      <td>Stuck between moving forward and killing myself</td>\n",
       "      <td>Some background information: My GF of almost 3...</td>\n",
       "      <td>[[Feeling-bad-about-yourself-or-that-you-are-a...</td>\n",
       "    </tr>\n",
       "    <tr>\n",
       "      <th>3</th>\n",
       "      <td>I need help on how to help my girlfriend.</td>\n",
       "      <td>My girlfriend ,of about 3 months now ,has been...</td>\n",
       "      <td>[[Feeling-bad-about-yourself-or-that-you-are-a...</td>\n",
       "    </tr>\n",
       "    <tr>\n",
       "      <th>4</th>\n",
       "      <td>I've been feeling this way for some tine</td>\n",
       "      <td>I'm alway feeling like this. It doesn't even m...</td>\n",
       "      <td>[[Feeling-bad-about-yourself-or-that-you-are-a...</td>\n",
       "    </tr>\n",
       "  </tbody>\n",
       "</table>\n",
       "</div>"
      ],
      "text/plain": [
       "                                          post_title  \\\n",
       "0                     I don't feel original anymore.   \n",
       "1  I don’t have anyone to talk to and I don’t kno...   \n",
       "2    Stuck between moving forward and killing myself   \n",
       "3          I need help on how to help my girlfriend.   \n",
       "4           I've been feeling this way for some tine   \n",
       "\n",
       "                                           post_text  \\\n",
       "0  When I was in high school a few years back, I ...   \n",
       "1  Nine years ago I was diagnosed with depression...   \n",
       "2  Some background information: My GF of almost 3...   \n",
       "3  My girlfriend ,of about 3 months now ,has been...   \n",
       "4  I'm alway feeling like this. It doesn't even m...   \n",
       "\n",
       "                                         annotations  \n",
       "0  [[Feeling-bad-about-yourself-or-that-you-are-a...  \n",
       "1  [[Feeling-bad-about-yourself-or-that-you-are-a...  \n",
       "2  [[Feeling-bad-about-yourself-or-that-you-are-a...  \n",
       "3  [[Feeling-bad-about-yourself-or-that-you-are-a...  \n",
       "4  [[Feeling-bad-about-yourself-or-that-you-are-a...  "
      ]
     },
     "execution_count": 4,
     "metadata": {},
     "output_type": "execute_result"
    }
   ],
   "source": [
    "train_data1 = pd.read_json('primate_dataset.json')\n",
    "train_data1.head()"
   ]
  },
  {
   "cell_type": "code",
   "execution_count": 5,
   "metadata": {},
   "outputs": [],
   "source": [
    "train_data1['tags'] = train_data1['annotations'].apply(lambda x: [annotation[0] for annotation in x if annotation[1] == 'yes'])\n"
   ]
  },
  {
   "cell_type": "code",
   "execution_count": 6,
   "metadata": {},
   "outputs": [
    {
     "data": {
      "text/plain": [
       "(2003, 9)"
      ]
     },
     "execution_count": 6,
     "metadata": {},
     "output_type": "execute_result"
    }
   ],
   "source": [
    "from sklearn.preprocessing import MultiLabelBinarizer\n",
    "mlb = MultiLabelBinarizer()\n",
    "y = mlb.fit_transform(train_data1['tags'])\n",
    "y.shape"
   ]
  },
  {
   "cell_type": "code",
   "execution_count": 7,
   "metadata": {},
   "outputs": [
    {
     "name": "stdout",
     "output_type": "stream",
     "text": [
      "{'Feeling-bad-about-yourself-or-that-you-are-a-failure-or-have-let-yourself-or-your-family-down': 'Tag1', 'Feeling-down-depressed-or-hopeless': 'Tag2', 'Feeling-tired-or-having-little-energy': 'Tag3', 'Little-interest-or-pleasure-in-doing ': 'Tag4', 'Moving-or-speaking-so-slowly-that-other-people-could-have-noticed-Or-the-opposite-being-so-fidgety-or-restless-that-you-have-been-moving-around-a-lot-more-than-usual': 'Tag5', 'Poor-appetite-or-overeating': 'Tag6', 'Thoughts-that-you-would-be-better-off-dead-or-of-hurting-yourself-in-some-way': 'Tag7', 'Trouble-concentrating-on-things-such-as-reading-the-newspaper-or-watching-television': 'Tag8', 'Trouble-falling-or-staying-asleep-or-sleeping-too-much': 'Tag9'}\n"
     ]
    }
   ],
   "source": [
    "new_data = pd.DataFrame(y, columns=mlb.classes_)\n",
    "train_data1 = pd.concat([train_data1, new_data], axis=1)\n",
    "# Rename columns as tag1-tag9\n",
    "new_columns = ['Tag' + str(i+1) for i in range(9)]\n",
    "renaming_dict = dict(zip(train_data1.columns[4:], new_columns))\n",
    "train_data1.rename(columns=renaming_dict, inplace=True)\n",
    "\n",
    "# Print the renaming dictionary\n",
    "print(renaming_dict)\n"
   ]
  },
  {
   "cell_type": "code",
   "execution_count": 8,
   "metadata": {},
   "outputs": [
    {
     "data": {
      "text/html": [
       "<div>\n",
       "<style scoped>\n",
       "    .dataframe tbody tr th:only-of-type {\n",
       "        vertical-align: middle;\n",
       "    }\n",
       "\n",
       "    .dataframe tbody tr th {\n",
       "        vertical-align: top;\n",
       "    }\n",
       "\n",
       "    .dataframe thead th {\n",
       "        text-align: right;\n",
       "    }\n",
       "</style>\n",
       "<table border=\"1\" class=\"dataframe\">\n",
       "  <thead>\n",
       "    <tr style=\"text-align: right;\">\n",
       "      <th></th>\n",
       "      <th>post_title</th>\n",
       "      <th>post_text</th>\n",
       "      <th>annotations</th>\n",
       "      <th>tags</th>\n",
       "      <th>Tag1</th>\n",
       "      <th>Tag2</th>\n",
       "      <th>Tag3</th>\n",
       "      <th>Tag4</th>\n",
       "      <th>Tag5</th>\n",
       "      <th>Tag6</th>\n",
       "      <th>Tag7</th>\n",
       "      <th>Tag8</th>\n",
       "      <th>Tag9</th>\n",
       "    </tr>\n",
       "  </thead>\n",
       "  <tbody>\n",
       "    <tr>\n",
       "      <th>0</th>\n",
       "      <td>I don't feel original anymore.</td>\n",
       "      <td>When I was in high school a few years back, I ...</td>\n",
       "      <td>[[Feeling-bad-about-yourself-or-that-you-are-a...</td>\n",
       "      <td>[Feeling-bad-about-yourself-or-that-you-are-a-...</td>\n",
       "      <td>1</td>\n",
       "      <td>0</td>\n",
       "      <td>1</td>\n",
       "      <td>1</td>\n",
       "      <td>0</td>\n",
       "      <td>0</td>\n",
       "      <td>0</td>\n",
       "      <td>0</td>\n",
       "      <td>0</td>\n",
       "    </tr>\n",
       "    <tr>\n",
       "      <th>1</th>\n",
       "      <td>I don’t have anyone to talk to and I don’t kno...</td>\n",
       "      <td>Nine years ago I was diagnosed with depression...</td>\n",
       "      <td>[[Feeling-bad-about-yourself-or-that-you-are-a...</td>\n",
       "      <td>[Feeling-bad-about-yourself-or-that-you-are-a-...</td>\n",
       "      <td>1</td>\n",
       "      <td>1</td>\n",
       "      <td>0</td>\n",
       "      <td>0</td>\n",
       "      <td>1</td>\n",
       "      <td>0</td>\n",
       "      <td>0</td>\n",
       "      <td>0</td>\n",
       "      <td>0</td>\n",
       "    </tr>\n",
       "    <tr>\n",
       "      <th>2</th>\n",
       "      <td>Stuck between moving forward and killing myself</td>\n",
       "      <td>Some background information: My GF of almost 3...</td>\n",
       "      <td>[[Feeling-bad-about-yourself-or-that-you-are-a...</td>\n",
       "      <td>[Feeling-bad-about-yourself-or-that-you-are-a-...</td>\n",
       "      <td>1</td>\n",
       "      <td>1</td>\n",
       "      <td>1</td>\n",
       "      <td>1</td>\n",
       "      <td>0</td>\n",
       "      <td>0</td>\n",
       "      <td>1</td>\n",
       "      <td>0</td>\n",
       "      <td>0</td>\n",
       "    </tr>\n",
       "    <tr>\n",
       "      <th>3</th>\n",
       "      <td>I need help on how to help my girlfriend.</td>\n",
       "      <td>My girlfriend ,of about 3 months now ,has been...</td>\n",
       "      <td>[[Feeling-bad-about-yourself-or-that-you-are-a...</td>\n",
       "      <td>[Feeling-bad-about-yourself-or-that-you-are-a-...</td>\n",
       "      <td>1</td>\n",
       "      <td>1</td>\n",
       "      <td>0</td>\n",
       "      <td>0</td>\n",
       "      <td>0</td>\n",
       "      <td>0</td>\n",
       "      <td>1</td>\n",
       "      <td>0</td>\n",
       "      <td>0</td>\n",
       "    </tr>\n",
       "    <tr>\n",
       "      <th>4</th>\n",
       "      <td>I've been feeling this way for some tine</td>\n",
       "      <td>I'm alway feeling like this. It doesn't even m...</td>\n",
       "      <td>[[Feeling-bad-about-yourself-or-that-you-are-a...</td>\n",
       "      <td>[Feeling-bad-about-yourself-or-that-you-are-a-...</td>\n",
       "      <td>1</td>\n",
       "      <td>1</td>\n",
       "      <td>0</td>\n",
       "      <td>0</td>\n",
       "      <td>0</td>\n",
       "      <td>0</td>\n",
       "      <td>0</td>\n",
       "      <td>0</td>\n",
       "      <td>0</td>\n",
       "    </tr>\n",
       "  </tbody>\n",
       "</table>\n",
       "</div>"
      ],
      "text/plain": [
       "                                          post_title  \\\n",
       "0                     I don't feel original anymore.   \n",
       "1  I don’t have anyone to talk to and I don’t kno...   \n",
       "2    Stuck between moving forward and killing myself   \n",
       "3          I need help on how to help my girlfriend.   \n",
       "4           I've been feeling this way for some tine   \n",
       "\n",
       "                                           post_text  \\\n",
       "0  When I was in high school a few years back, I ...   \n",
       "1  Nine years ago I was diagnosed with depression...   \n",
       "2  Some background information: My GF of almost 3...   \n",
       "3  My girlfriend ,of about 3 months now ,has been...   \n",
       "4  I'm alway feeling like this. It doesn't even m...   \n",
       "\n",
       "                                         annotations  \\\n",
       "0  [[Feeling-bad-about-yourself-or-that-you-are-a...   \n",
       "1  [[Feeling-bad-about-yourself-or-that-you-are-a...   \n",
       "2  [[Feeling-bad-about-yourself-or-that-you-are-a...   \n",
       "3  [[Feeling-bad-about-yourself-or-that-you-are-a...   \n",
       "4  [[Feeling-bad-about-yourself-or-that-you-are-a...   \n",
       "\n",
       "                                                tags  Tag1  Tag2  Tag3  Tag4  \\\n",
       "0  [Feeling-bad-about-yourself-or-that-you-are-a-...     1     0     1     1   \n",
       "1  [Feeling-bad-about-yourself-or-that-you-are-a-...     1     1     0     0   \n",
       "2  [Feeling-bad-about-yourself-or-that-you-are-a-...     1     1     1     1   \n",
       "3  [Feeling-bad-about-yourself-or-that-you-are-a-...     1     1     0     0   \n",
       "4  [Feeling-bad-about-yourself-or-that-you-are-a-...     1     1     0     0   \n",
       "\n",
       "   Tag5  Tag6  Tag7  Tag8  Tag9  \n",
       "0     0     0     0     0     0  \n",
       "1     1     0     0     0     0  \n",
       "2     0     0     1     0     0  \n",
       "3     0     0     1     0     0  \n",
       "4     0     0     0     0     0  "
      ]
     },
     "execution_count": 8,
     "metadata": {},
     "output_type": "execute_result"
    }
   ],
   "source": [
    "train_data1.head()"
   ]
  },
  {
   "cell_type": "code",
   "execution_count": 9,
   "metadata": {},
   "outputs": [
    {
     "data": {
      "text/plain": [
       "<Axes: >"
      ]
     },
     "execution_count": 9,
     "metadata": {},
     "output_type": "execute_result"
    },
    {
     "data": {
      "image/png": "[encoded data removed]",
      "text/plain": [
       "<Figure size 1000x800 with 1 Axes>"
      ]
     },
     "metadata": {},
     "output_type": "display_data"
    }
   ],
   "source": [
    "comments_labels = train_data1[['Tag1','Tag2','Tag3','Tag4','Tag5', 'Tag6', 'Tag7', 'Tag8', 'Tag9']]\n",
    "fig_size = plt.rcParams[\"figure.figsize\"]\n",
    "fig_size[0] = 10\n",
    "fig_size[1] = 8\n",
    "plt.rcParams[\"figure.figsize\"] = fig_size\n",
    "comments_labels.sum(axis=0).plot.bar()"
   ]
  },
  {
   "cell_type": "code",
   "execution_count": 103,
   "metadata": {},
   "outputs": [],
   "source": [
    "from nltk.corpus import stopwords\n",
    "from nltk.tokenize import word_tokenize\n",
    "import re\n",
    "\n",
    "# Define a function to preprocess the text\n",
    "def preprocess_text(text):\n",
    "    # Convert text to lowercase\n",
    "    text = text.lower()\n",
    "    \n",
    "    # Remove special characters and numbers\n",
    "    text = re.sub(r'[^a-zA-Z]', ' ', text)\n",
    "    \n",
    "    # Tokenize the text\n",
    "    tokens = word_tokenize(text)\n",
    "    \n",
    "    # Remove stopwords\n",
    "    stop_words = set(stopwords.words('english'))\n",
    "    tokens = [token for token in tokens if token not in stop_words]\n",
    "    \n",
    "    # Join the tokens back into a string\n",
    "    processed_text = ' '.join(tokens)\n",
    "    \n",
    "    return processed_text\n",
    "\n",
    "# Apply the preprocessing function to the post_text column\n",
    "train_data1['processed_text'] = train_data1['post_text'].apply(preprocess_text)\n"
   ]
  },
  {
   "cell_type": "code",
   "execution_count": 120,
   "metadata": {},
   "outputs": [
    {
     "name": "stderr",
     "output_type": "stream",
     "text": [
      "No sentence-transformers model found with name google-bert/bert-base-uncased. Creating a new one with MEAN pooling.\n"
     ]
    },
    {
     "name": "stdout",
     "output_type": "stream",
     "text": [
      "Max Sequence Length: 512\n"
     ]
    },
    {
     "data": {
      "application/vnd.jupyter.widget-view+json": {
       "model_id": "3695c2fb2d2b484988463d7b24c2319b",
       "version_major": 2,
       "version_minor": 0
      },
      "text/plain": [
       "Batches:   0%|          | 0/63 [00:00<?, ?it/s]"
      ]
     },
     "metadata": {},
     "output_type": "display_data"
    }
   ],
   "source": [
    "model = SentenceTransformer('google-bert/bert-base-uncased')\n",
    "model.max_seq_length = 512\n",
    "print(\"Max Sequence Length:\", model.max_seq_length)\n",
    "sentence_embeddings = model.encode(train_data1['processed_text'], show_progress_bar=True)"
   ]
  },
  {
   "cell_type": "code",
   "execution_count": 121,
   "metadata": {},
   "outputs": [],
   "source": [
    "X_train, X_test, Y_train, Y_test = train_test_split(sentence_embeddings, \n",
    "                                                      comments_labels, \n",
    "                                                      train_size=0.8, \n",
    "                                                      test_size=0.2, \n",
    "                                                      random_state=42)"
   ]
  },
  {
   "cell_type": "code",
   "execution_count": null,
   "metadata": {},
   "outputs": [],
   "source": []
  },
  {
   "cell_type": "code",
   "execution_count": 122,
   "metadata": {},
   "outputs": [
    {
     "data": {
      "text/plain": [
       "((1602, 768), (1602, 9), (401, 768), (401, 9))"
      ]
     },
     "execution_count": 122,
     "metadata": {},
     "output_type": "execute_result"
    }
   ],
   "source": [
    "X_train.shape, Y_train.shape, X_test.shape, Y_test.shape"
   ]
  },
  {
   "cell_type": "code",
   "execution_count": 123,
   "metadata": {},
   "outputs": [
    {
     "name": "stderr",
     "output_type": "stream",
     "text": [
      "[I 2024-02-22 05:29:50,060] A new study created in memory with name: no-name-b517f5b6-2aaf-49dc-a6dc-bac24769b16d\n",
      "[I 2024-02-22 05:30:02,684] Trial 0 finished with value: 0.4864678680896759 and parameters: {'n_layers': 3, 'n_units_l0': 159, 'activation0': 'relu', 'dropout0': 0.4935792666605632, 'n_units_l1': 135, 'activation1': 'swish', 'dropout1': 0.5404243730343004, 'n_units_l2': 277, 'activation2': 'relu', 'dropout2': 0.3832874424230908, 'size': 119}. Best is trial 0 with value: 0.4864678680896759.\n",
      "[I 2024-02-22 05:30:05,506] Trial 1 finished with value: 0.46843060851097107 and parameters: {'n_layers': 1, 'n_units_l0': 751, 'activation0': 'swish', 'dropout0': 0.16695462730227428, 'size': 20}. Best is trial 1 with value: 0.46843060851097107.\n",
      "[I 2024-02-22 05:30:10,167] Trial 2 finished with value: 0.4691919684410095 and parameters: {'n_layers': 2, 'n_units_l0': 111, 'activation0': 'swish', 'dropout0': 0.35804021050239676, 'n_units_l1': 119, 'activation1': 'relu', 'dropout1': 0.03190565184468834, 'size': 9}. Best is trial 1 with value: 0.46843060851097107.\n",
      "[I 2024-02-22 05:30:14,820] Trial 3 finished with value: 0.48362380266189575 and parameters: {'n_layers': 3, 'n_units_l0': 320, 'activation0': 'relu', 'dropout0': 0.34107185699683085, 'n_units_l1': 187, 'activation1': 'linear', 'dropout1': 0.5839168392365893, 'n_units_l2': 96, 'activation2': 'swish', 'dropout2': 0.5979192106447332, 'size': 76}. Best is trial 1 with value: 0.46843060851097107.\n",
      "[I 2024-02-22 05:30:16,870] Trial 4 finished with value: 0.4674883782863617 and parameters: {'n_layers': 2, 'n_units_l0': 453, 'activation0': 'linear', 'dropout0': 0.4150192947036215, 'n_units_l1': 308, 'activation1': 'linear', 'dropout1': 0.005308410061800317, 'size': 55}. Best is trial 4 with value: 0.4674883782863617.\n",
      "[I 2024-02-22 05:30:21,537] Trial 5 finished with value: 0.47817859053611755 and parameters: {'n_layers': 3, 'n_units_l0': 593, 'activation0': 'linear', 'dropout0': 0.024483849414060076, 'n_units_l1': 49, 'activation1': 'swish', 'dropout1': 0.3228832140469423, 'n_units_l2': 287, 'activation2': 'swish', 'dropout2': 0.5571649035758306, 'size': 27}. Best is trial 4 with value: 0.4674883782863617.\n",
      "[I 2024-02-22 05:30:23,894] Trial 6 finished with value: 0.4713054895401001 and parameters: {'n_layers': 2, 'n_units_l0': 688, 'activation0': 'relu', 'dropout0': 0.23237461489601957, 'n_units_l1': 459, 'activation1': 'relu', 'dropout1': 0.23449749019774846, 'size': 43}. Best is trial 4 with value: 0.4674883782863617.\n",
      "[I 2024-02-22 05:30:26,208] Trial 7 finished with value: 0.4744992256164551 and parameters: {'n_layers': 3, 'n_units_l0': 94, 'activation0': 'swish', 'dropout0': 0.27872378241218393, 'n_units_l1': 189, 'activation1': 'swish', 'dropout1': 0.2977622347208649, 'n_units_l2': 131, 'activation2': 'linear', 'dropout2': 0.23694049839857342, 'size': 82}. Best is trial 4 with value: 0.4674883782863617.\n",
      "[I 2024-02-22 05:30:27,734] Trial 8 finished with value: 0.47031980752944946 and parameters: {'n_layers': 1, 'n_units_l0': 242, 'activation0': 'swish', 'dropout0': 0.1929760137642116, 'size': 58}. Best is trial 4 with value: 0.4674883782863617.\n",
      "[I 2024-02-22 05:30:29,843] Trial 9 finished with value: 0.47120147943496704 and parameters: {'n_layers': 1, 'n_units_l0': 195, 'activation0': 'relu', 'dropout0': 0.3729143406711724, 'size': 31}. Best is trial 4 with value: 0.4674883782863617.\n",
      "[I 2024-02-22 05:30:33,397] Trial 10 finished with value: 0.4736228287220001 and parameters: {'n_layers': 2, 'n_units_l0': 48, 'activation0': 'linear', 'dropout0': 0.5967828285320953, 'n_units_l1': 740, 'activation1': 'linear', 'dropout1': 0.008176960386869964, 'size': 96}. Best is trial 4 with value: 0.4674883782863617.\n",
      "[I 2024-02-22 05:30:38,618] Trial 11 finished with value: 0.4655420780181885 and parameters: {'n_layers': 1, 'n_units_l0': 440, 'activation0': 'linear', 'dropout0': 0.057245189944336916, 'size': 11}. Best is trial 11 with value: 0.4655420780181885.\n",
      "[I 2024-02-22 05:30:40,527] Trial 12 finished with value: 0.468196302652359 and parameters: {'n_layers': 1, 'n_units_l0': 388, 'activation0': 'linear', 'dropout0': 0.002126351130019577, 'size': 56}. Best is trial 11 with value: 0.4655420780181885.\n",
      "[I 2024-02-22 05:30:42,296] Trial 13 finished with value: 0.468082070350647 and parameters: {'n_layers': 2, 'n_units_l0': 412, 'activation0': 'linear', 'dropout0': 0.4608422891660622, 'n_units_l1': 364, 'activation1': 'linear', 'dropout1': 0.16599534777941202, 'size': 47}. Best is trial 11 with value: 0.4655420780181885.\n",
      "[I 2024-02-22 05:30:43,804] Trial 14 finished with value: 0.46601924300193787 and parameters: {'n_layers': 1, 'n_units_l0': 489, 'activation0': 'linear', 'dropout0': 0.09562566152896707, 'size': 103}. Best is trial 11 with value: 0.4655420780181885.\n",
      "[I 2024-02-22 05:30:45,612] Trial 15 finished with value: 0.4702010154724121 and parameters: {'n_layers': 1, 'n_units_l0': 275, 'activation0': 'linear', 'dropout0': 0.10917123364216072, 'size': 126}. Best is trial 11 with value: 0.4655420780181885.\n",
      "[I 2024-02-22 05:30:47,181] Trial 16 finished with value: 0.4679644703865051 and parameters: {'n_layers': 1, 'n_units_l0': 524, 'activation0': 'linear', 'dropout0': 0.09572767144761435, 'size': 95}. Best is trial 11 with value: 0.4655420780181885.\n",
      "[I 2024-02-22 05:30:48,661] Trial 17 finished with value: 0.4680922031402588 and parameters: {'n_layers': 1, 'n_units_l0': 328, 'activation0': 'linear', 'dropout0': 0.0879336331633577, 'size': 113}. Best is trial 11 with value: 0.4655420780181885.\n",
      "[I 2024-02-22 05:30:49,759] Trial 18 finished with value: 0.4748718738555908 and parameters: {'n_layers': 1, 'n_units_l0': 202, 'activation0': 'linear', 'dropout0': 0.1390588424354367, 'size': 98}. Best is trial 11 with value: 0.4655420780181885.\n",
      "[I 2024-02-22 05:30:51,414] Trial 19 finished with value: 0.4758801758289337 and parameters: {'n_layers': 2, 'n_units_l0': 131, 'activation0': 'linear', 'dropout0': 0.05384577485474887, 'n_units_l1': 53, 'activation1': 'relu', 'dropout1': 0.4449846285267316, 'size': 74}. Best is trial 11 with value: 0.4655420780181885.\n",
      "[I 2024-02-22 05:30:52,585] Trial 20 finished with value: 0.47644975781440735 and parameters: {'n_layers': 1, 'n_units_l0': 73, 'activation0': 'linear', 'dropout0': 0.23905469120529388, 'size': 107}. Best is trial 11 with value: 0.4655420780181885.\n",
      "[I 2024-02-22 05:30:57,795] Trial 21 finished with value: 0.46436256170272827 and parameters: {'n_layers': 2, 'n_units_l0': 491, 'activation0': 'linear', 'dropout0': 0.46643230001285607, 'n_units_l1': 322, 'activation1': 'linear', 'dropout1': 0.12603531909916463, 'size': 10}. Best is trial 21 with value: 0.46436256170272827.\n",
      "[I 2024-02-22 05:31:04,231] Trial 22 finished with value: 0.46495312452316284 and parameters: {'n_layers': 2, 'n_units_l0': 528, 'activation0': 'linear', 'dropout0': 0.571400954781476, 'n_units_l1': 702, 'activation1': 'linear', 'dropout1': 0.13062822858606393, 'size': 9}. Best is trial 21 with value: 0.46436256170272827.\n",
      "[I 2024-02-22 05:31:11,351] Trial 23 finished with value: 0.4659821689128876 and parameters: {'n_layers': 2, 'n_units_l0': 605, 'activation0': 'linear', 'dropout0': 0.596324473343433, 'n_units_l1': 729, 'activation1': 'linear', 'dropout1': 0.13698508796641917, 'size': 8}. Best is trial 21 with value: 0.46436256170272827.\n",
      "[I 2024-02-22 05:31:19,441] Trial 24 finished with value: 0.46601414680480957 and parameters: {'n_layers': 2, 'n_units_l0': 347, 'activation0': 'linear', 'dropout0': 0.5381589594705855, 'n_units_l1': 452, 'activation1': 'linear', 'dropout1': 0.10638324663849028, 'size': 18}. Best is trial 21 with value: 0.46436256170272827.\n",
      "[I 2024-02-22 05:31:24,506] Trial 25 finished with value: 0.46815529465675354 and parameters: {'n_layers': 2, 'n_units_l0': 244, 'activation0': 'linear', 'dropout0': 0.5253254703727392, 'n_units_l1': 260, 'activation1': 'linear', 'dropout1': 0.22642599253350448, 'size': 34}. Best is trial 21 with value: 0.46436256170272827.\n",
      "[I 2024-02-22 05:31:28,561] Trial 26 finished with value: 0.46743422746658325 and parameters: {'n_layers': 3, 'n_units_l0': 574, 'activation0': 'linear', 'dropout0': 0.4470729838390017, 'n_units_l1': 571, 'activation1': 'linear', 'dropout1': 0.09350220150976901, 'n_units_l2': 754, 'activation2': 'linear', 'dropout2': 0.01763247478086144, 'size': 18}. Best is trial 21 with value: 0.46436256170272827.\n",
      "[I 2024-02-22 05:31:35,912] Trial 27 finished with value: 0.4658225476741791 and parameters: {'n_layers': 2, 'n_units_l0': 401, 'activation0': 'linear', 'dropout0': 0.5437764566049794, 'n_units_l1': 276, 'activation1': 'linear', 'dropout1': 0.37109477031044547, 'size': 8}. Best is trial 21 with value: 0.46436256170272827.\n",
      "[I 2024-02-22 05:31:38,668] Trial 28 finished with value: 0.4684320390224457 and parameters: {'n_layers': 2, 'n_units_l0': 678, 'activation0': 'swish', 'dropout0': 0.4094337635737357, 'n_units_l1': 87, 'activation1': 'linear', 'dropout1': 0.20632812996647548, 'size': 36}. Best is trial 21 with value: 0.46436256170272827.\n",
      "[I 2024-02-22 05:31:58,860] Trial 29 finished with value: 0.48437798023223877 and parameters: {'n_layers': 3, 'n_units_l0': 148, 'activation0': 'relu', 'dropout0': 0.4885182026796703, 'n_units_l1': 546, 'activation1': 'relu', 'dropout1': 0.10335470401861062, 'n_units_l2': 49, 'activation2': 'relu', 'dropout2': 0.01946963991210282, 'size': 23}. Best is trial 21 with value: 0.46436256170272827.\n",
      "[I 2024-02-22 05:32:03,279] Trial 30 finished with value: 0.47252437472343445 and parameters: {'n_layers': 3, 'n_units_l0': 490, 'activation0': 'relu', 'dropout0': 0.3111620687419897, 'n_units_l1': 419, 'activation1': 'swish', 'dropout1': 0.26826292698088605, 'n_units_l2': 725, 'activation2': 'linear', 'dropout2': 0.2370261063371537, 'size': 15}. Best is trial 21 with value: 0.46436256170272827.\n",
      "[I 2024-02-22 05:32:12,357] Trial 31 finished with value: 0.46387723088264465 and parameters: {'n_layers': 2, 'n_units_l0': 393, 'activation0': 'linear', 'dropout0': 0.5608378675915191, 'n_units_l1': 264, 'activation1': 'linear', 'dropout1': 0.3958831427667795, 'size': 10}. Best is trial 31 with value: 0.46387723088264465.\n",
      "[I 2024-02-22 05:32:15,126] Trial 32 finished with value: 0.4648960530757904 and parameters: {'n_layers': 2, 'n_units_l0': 300, 'activation0': 'linear', 'dropout0': 0.5598001937713784, 'n_units_l1': 239, 'activation1': 'linear', 'dropout1': 0.41875969092260695, 'size': 26}. Best is trial 31 with value: 0.46387723088264465.\n",
      "[I 2024-02-22 05:32:19,832] Trial 33 finished with value: 0.4674244821071625 and parameters: {'n_layers': 2, 'n_units_l0': 270, 'activation0': 'linear', 'dropout0': 0.5771059556588236, 'n_units_l1': 232, 'activation1': 'linear', 'dropout1': 0.4321203590705722, 'size': 24}. Best is trial 31 with value: 0.46387723088264465.\n",
      "[I 2024-02-22 05:32:22,615] Trial 34 finished with value: 0.4688141644001007 and parameters: {'n_layers': 2, 'n_units_l0': 307, 'activation0': 'swish', 'dropout0': 0.5014485612404844, 'n_units_l1': 209, 'activation1': 'linear', 'dropout1': 0.43118844749742496, 'size': 40}. Best is trial 31 with value: 0.46387723088264465.\n",
      "[I 2024-02-22 05:32:26,328] Trial 35 finished with value: 0.46941155195236206 and parameters: {'n_layers': 2, 'n_units_l0': 368, 'activation0': 'linear', 'dropout0': 0.5733542157915005, 'n_units_l1': 344, 'activation1': 'linear', 'dropout1': 0.37253553058901356, 'size': 19}. Best is trial 31 with value: 0.46387723088264465.\n",
      "[I 2024-02-22 05:32:30,662] Trial 36 finished with value: 0.46787986159324646 and parameters: {'n_layers': 2, 'n_units_l0': 750, 'activation0': 'linear', 'dropout0': 0.48437107731465634, 'n_units_l1': 155, 'activation1': 'linear', 'dropout1': 0.49820575652359095, 'size': 14}. Best is trial 31 with value: 0.46387723088264465.\n",
      "[I 2024-02-22 05:32:36,520] Trial 37 finished with value: 0.46681442856788635 and parameters: {'n_layers': 2, 'n_units_l0': 223, 'activation0': 'linear', 'dropout0': 0.5509808753237199, 'n_units_l1': 296, 'activation1': 'linear', 'dropout1': 0.3678084520719366, 'size': 29}. Best is trial 31 with value: 0.46387723088264465.\n",
      "[I 2024-02-22 05:32:50,332] Trial 38 finished with value: 0.4732682704925537 and parameters: {'n_layers': 2, 'n_units_l0': 543, 'activation0': 'relu', 'dropout0': 0.43286562219145974, 'n_units_l1': 96, 'activation1': 'linear', 'dropout1': 0.47851510592090246, 'size': 25}. Best is trial 31 with value: 0.46387723088264465.\n",
      "[I 2024-02-22 05:32:53,334] Trial 39 finished with value: 0.46805471181869507 and parameters: {'n_layers': 2, 'n_units_l0': 292, 'activation0': 'swish', 'dropout0': 0.5076830799551646, 'n_units_l1': 242, 'activation1': 'linear', 'dropout1': 0.33951653954906846, 'size': 48}. Best is trial 31 with value: 0.46387723088264465.\n",
      "[I 2024-02-22 05:32:54,903] Trial 40 finished with value: 0.46646103262901306 and parameters: {'n_layers': 2, 'n_units_l0': 640, 'activation0': 'linear', 'dropout0': 0.3913427623311381, 'n_units_l1': 580, 'activation1': 'linear', 'dropout1': 0.16933565141526333, 'size': 65}. Best is trial 31 with value: 0.46387723088264465.\n",
      "[I 2024-02-22 05:34:13,658] Trial 41 finished with value: 0.48244234919548035 and parameters: {'n_layers': 3, 'n_units_l0': 444, 'activation0': 'linear', 'dropout0': 0.567263414968259, 'n_units_l1': 148, 'activation1': 'swish', 'dropout1': 0.5348703946180833, 'n_units_l2': 52, 'activation2': 'swish', 'dropout2': 0.401241206906447, 'size': 8}. Best is trial 31 with value: 0.46387723088264465.\n",
      "[I 2024-02-22 05:34:18,529] Trial 42 finished with value: 0.464293897151947 and parameters: {'n_layers': 2, 'n_units_l0': 456, 'activation0': 'linear', 'dropout0': 0.5183037879649977, 'n_units_l1': 376, 'activation1': 'linear', 'dropout1': 0.06639762272831118, 'size': 13}. Best is trial 31 with value: 0.46387723088264465.\n",
      "[I 2024-02-22 05:34:23,119] Trial 43 finished with value: 0.4655129611492157 and parameters: {'n_layers': 2, 'n_units_l0': 343, 'activation0': 'linear', 'dropout0': 0.47004563333014904, 'n_units_l1': 367, 'activation1': 'linear', 'dropout1': 0.405685012801285, 'size': 14}. Best is trial 31 with value: 0.46387723088264465.\n",
      "[I 2024-02-22 05:34:30,288] Trial 44 finished with value: 0.46618956327438354 and parameters: {'n_layers': 2, 'n_units_l0': 469, 'activation0': 'linear', 'dropout0': 0.5189137945040192, 'n_units_l1': 321, 'activation1': 'linear', 'dropout1': 0.07907312971498259, 'size': 22}. Best is trial 31 with value: 0.46387723088264465.\n",
      "[I 2024-02-22 05:34:32,069] Trial 45 finished with value: 0.466468870639801 and parameters: {'n_layers': 2, 'n_units_l0': 766, 'activation0': 'linear', 'dropout0': 0.5533863788786276, 'n_units_l1': 175, 'activation1': 'linear', 'dropout1': 0.04715190241721064, 'size': 32}. Best is trial 31 with value: 0.46387723088264465.\n",
      "[I 2024-02-22 05:34:35,363] Trial 46 finished with value: 0.4667554795742035 and parameters: {'n_layers': 2, 'n_units_l0': 393, 'activation0': 'swish', 'dropout0': 0.33671761219788743, 'n_units_l1': 402, 'activation1': 'relu', 'dropout1': 0.04719759310577487, 'size': 13}. Best is trial 31 with value: 0.46387723088264465.\n",
      "[I 2024-02-22 05:34:47,553] Trial 47 finished with value: 0.4726738929748535 and parameters: {'n_layers': 2, 'n_units_l0': 523, 'activation0': 'relu', 'dropout0': 0.5926125993191683, 'n_units_l1': 222, 'activation1': 'linear', 'dropout1': 0.15037432356711725, 'size': 27}. Best is trial 31 with value: 0.46387723088264465.\n",
      "[I 2024-02-22 05:34:49,422] Trial 48 finished with value: 0.46848422288894653 and parameters: {'n_layers': 2, 'n_units_l0': 452, 'activation0': 'linear', 'dropout0': 0.5219904366871654, 'n_units_l1': 527, 'activation1': 'linear', 'dropout1': 0.06407981958718105, 'size': 40}. Best is trial 31 with value: 0.46387723088264465.\n",
      "[I 2024-02-22 05:34:53,764] Trial 49 finished with value: 0.4697231352329254 and parameters: {'n_layers': 2, 'n_units_l0': 605, 'activation0': 'linear', 'dropout0': 0.43400196984585715, 'n_units_l1': 282, 'activation1': 'swish', 'dropout1': 0.12101968794658045, 'size': 19}. Best is trial 31 with value: 0.46387723088264465.\n"
     ]
    },
    {
     "name": "stdout",
     "output_type": "stream",
     "text": [
      "Number of finished trials: 50\n",
      "Best trial:\n",
      "  Value: 0.46387723088264465\n"
     ]
    }
   ],
   "source": [
    "def objective(trial):\n",
    "    keras.backend.clear_session()\n",
    "    x_train, x_valid, y_train, y_valid = train_test_split(X_train, Y_train, train_size=0.8, test_size=0.2,\n",
    "                                                                                        random_state=42)\n",
    "\n",
    "\n",
    "    #optimum number of hidden layers\n",
    "    n_layers = trial.suggest_int('n_layers', 1, 3)\n",
    "    model = keras.Sequential()\n",
    "    for i in range(n_layers):\n",
    "        #optimum number of hidden nodes\n",
    "        num_hidden = trial.suggest_int(f'n_units_l{i}', 48, len(sentence_embeddings[0]), log=True)\n",
    "        #optimum activation function\n",
    "        model.add(keras.layers.Dense(num_hidden, input_shape=(len(sentence_embeddings[0]),),\n",
    "                               activation=trial.suggest_categorical(f'activation{i}', ['relu', 'linear','swish'])))\n",
    "        #optimum dropout value\n",
    "        model.add(keras.layers.Dropout(rate = trial.suggest_float(f'dropout{i}', 0.0, 0.6))) \n",
    "    model.add(keras.layers.Dense(9,activation=tf.keras.activations.sigmoid)) #output Layer\n",
    "    val_ds = (x_valid,y_valid)\n",
    "    reduce_lr = ReduceLROnPlateau(monitor='val_loss', factor=0.1,patience=1,min_lr=1e-05,verbose=0)\n",
    "    early_stoping = EarlyStopping(monitor=\"val_loss\",min_delta=0,patience=5,verbose=0,mode=\"auto\", baseline=None,restore_best_weights=True)\n",
    "    model.compile(loss='binary_crossentropy',metrics='categorical_crossentropy', optimizer='Adam')\n",
    "    #optimum batch size\n",
    "    histroy = model.fit(x_train,y_train, validation_data=val_ds,epochs=200,callbacks=[reduce_lr,early_stoping],verbose=0,\n",
    "                       batch_size=trial.suggest_int('size', 8, 128))\n",
    "    return min(histroy.history['val_loss'])\n",
    "if __name__ == \"__main__\":\n",
    "  study = optuna.create_study(direction=\"minimize\")\n",
    "  study.optimize(objective, n_trials=50, timeout=1200)\n",
    "  print(\"Number of finished trials: {}\".format(len(study.trials)))\n",
    "  print(\"Best trial:\")\n",
    "  trial = study.best_trial\n",
    "  print(\"  Value: {}\".format(trial.value))"
   ]
  },
  {
   "cell_type": "code",
   "execution_count": 124,
   "metadata": {},
   "outputs": [
    {
     "data": {
      "application/vnd.plotly.v1+json": {
       "config": {
        "plotlyServerURL": "https://plot.ly"
       },
       "data": [
        {
         "mode": "markers",
         "name": "Objective Value",
         "type": "scatter",
         "x": [
          0,
          1,
          2,
          3,
          4,
          5,
          6,
          7,
          8,
          9,
          10,
          11,
          12,
          13,
          14,
          15,
          16,
          17,
          18,
          19,
          20,
          21,
          22,
          23,
          24,
          25,
          26,
          27,
          28,
          29,
          30,
          31,
          32,
          33,
          34,
          35,
          36,
          37,
          38,
          39,
          40,
          41,
          42,
          43,
          44,
          45,
          46,
          47,
          48,
          49
         ],
         "y": [
          0.4864678680896759,
          0.46843060851097107,
          0.4691919684410095,
          0.48362380266189575,
          0.4674883782863617,
          0.47817859053611755,
          0.4713054895401001,
          0.4744992256164551,
          0.47031980752944946,
          0.47120147943496704,
          0.4736228287220001,
          0.4655420780181885,
          0.468196302652359,
          0.468082070350647,
          0.46601924300193787,
          0.4702010154724121,
          0.4679644703865051,
          0.4680922031402588,
          0.4748718738555908,
          0.4758801758289337,
          0.47644975781440735,
          0.46436256170272827,
          0.46495312452316284,
          0.4659821689128876,
          0.46601414680480957,
          0.46815529465675354,
          0.46743422746658325,
          0.4658225476741791,
          0.4684320390224457,
          0.48437798023223877,
          0.47252437472343445,
          0.46387723088264465,
          0.4648960530757904,
          0.4674244821071625,
          0.4688141644001007,
          0.46941155195236206,
          0.46787986159324646,
          0.46681442856788635,
          0.4732682704925537,
          0.46805471181869507,
          0.46646103262901306,
          0.48244234919548035,
          0.464293897151947,
          0.4655129611492157,
          0.46618956327438354,
          0.466468870639801,
          0.4667554795742035,
          0.4726738929748535,
          0.46848422288894653,
          0.4697231352329254
         ]
        },
        {
         "mode": "lines",
         "name": "Best Value",
         "type": "scatter",
         "x": [
          0,
          1,
          2,
          3,
          4,
          5,
          6,
          7,
          8,
          9,
          10,
          11,
          12,
          13,
          14,
          15,
          16,
          17,
          18,
          19,
          20,
          21,
          22,
          23,
          24,
          25,
          26,
          27,
          28,
          29,
          30,
          31,
          32,
          33,
          34,
          35,
          36,
          37,
          38,
          39,
          40,
          41,
          42,
          43,
          44,
          45,
          46,
          47,
          48,
          49
         ],
         "y": [
          0.4864678680896759,
          0.46843060851097107,
          0.46843060851097107,
          0.46843060851097107,
          0.4674883782863617,
          0.4674883782863617,
          0.4674883782863617,
          0.4674883782863617,
          0.4674883782863617,
          0.4674883782863617,
          0.4674883782863617,
          0.4655420780181885,
          0.4655420780181885,
          0.4655420780181885,
          0.4655420780181885,
          0.4655420780181885,
          0.4655420780181885,
          0.4655420780181885,
          0.4655420780181885,
          0.4655420780181885,
          0.4655420780181885,
          0.46436256170272827,
          0.46436256170272827,
          0.46436256170272827,
          0.46436256170272827,
          0.46436256170272827,
          0.46436256170272827,
          0.46436256170272827,
          0.46436256170272827,
          0.46436256170272827,
          0.46436256170272827,
          0.46387723088264465,
          0.46387723088264465,
          0.46387723088264465,
          0.46387723088264465,
          0.46387723088264465,
          0.46387723088264465,
          0.46387723088264465,
          0.46387723088264465,
          0.46387723088264465,
          0.46387723088264465,
          0.46387723088264465,
          0.46387723088264465,
          0.46387723088264465,
          0.46387723088264465,
          0.46387723088264465,
          0.46387723088264465,
          0.46387723088264465,
          0.46387723088264465,
          0.46387723088264465
         ]
        },
        {
         "marker": {
          "color": "#cccccc"
         },
         "mode": "markers",
         "name": "Infeasible Trial",
         "showlegend": false,
         "type": "scatter",
         "x": [],
         "y": []
        }
       ],
       "layout": {
        "template": {
         "data": {
          "bar": [
           {
            "error_x": {
             "color": "#2a3f5f"
            },
            "error_y": {
             "color": "#2a3f5f"
            },
            "marker": {
             "line": {
              "color": "#E5ECF6",
              "width": 0.5
             },
             "pattern": {
              "fillmode": "overlay",
              "size": 10,
              "solidity": 0.2
             }
            },
            "type": "bar"
           }
          ],
          "barpolar": [
           {
            "marker": {
             "line": {
              "color": "#E5ECF6",
              "width": 0.5
             },
             "pattern": {
              "fillmode": "overlay",
              "size": 10,
              "solidity": 0.2
             }
            },
            "type": "barpolar"
           }
          ],
          "carpet": [
           {
            "aaxis": {
             "endlinecolor": "#2a3f5f",
             "gridcolor": "white",
             "linecolor": "white",
             "minorgridcolor": "white",
             "startlinecolor": "#2a3f5f"
            },
            "baxis": {
             "endlinecolor": "#2a3f5f",
             "gridcolor": "white",
             "linecolor": "white",
             "minorgridcolor": "white",
             "startlinecolor": "#2a3f5f"
            },
            "type": "carpet"
           }
          ],
          "choropleth": [
           {
            "colorbar": {
             "outlinewidth": 0,
             "ticks": ""
            },
            "type": "choropleth"
           }
          ],
          "contour": [
           {
            "colorbar": {
             "outlinewidth": 0,
             "ticks": ""
            },
            "colorscale": [
             [
              0,
              "#0d0887"
             ],
             [
              0.1111111111111111,
              "#46039f"
             ],
             [
              0.2222222222222222,
              "#7201a8"
             ],
             [
              0.3333333333333333,
              "#9c179e"
             ],
             [
              0.4444444444444444,
              "#bd3786"
             ],
             [
              0.5555555555555556,
              "#d8576b"
             ],
             [
              0.6666666666666666,
              "#ed7953"
             ],
             [
              0.7777777777777778,
              "#fb9f3a"
             ],
             [
              0.8888888888888888,
              "#fdca26"
             ],
             [
              1,
              "#f0f921"
             ]
            ],
            "type": "contour"
           }
          ],
          "contourcarpet": [
           {
            "colorbar": {
             "outlinewidth": 0,
             "ticks": ""
            },
            "type": "contourcarpet"
           }
          ],
          "heatmap": [
           {
            "colorbar": {
             "outlinewidth": 0,
             "ticks": ""
            },
            "colorscale": [
             [
              0,
              "#0d0887"
             ],
             [
              0.1111111111111111,
              "#46039f"
             ],
             [
              0.2222222222222222,
              "#7201a8"
             ],
             [
              0.3333333333333333,
              "#9c179e"
             ],
             [
              0.4444444444444444,
              "#bd3786"
             ],
             [
              0.5555555555555556,
              "#d8576b"
             ],
             [
              0.6666666666666666,
              "#ed7953"
             ],
             [
              0.7777777777777778,
              "#fb9f3a"
             ],
             [
              0.8888888888888888,
              "#fdca26"
             ],
             [
              1,
              "#f0f921"
             ]
            ],
            "type": "heatmap"
           }
          ],
          "heatmapgl": [
           {
            "colorbar": {
             "outlinewidth": 0,
             "ticks": ""
            },
            "colorscale": [
             [
              0,
              "#0d0887"
             ],
             [
              0.1111111111111111,
              "#46039f"
             ],
             [
              0.2222222222222222,
              "#7201a8"
             ],
             [
              0.3333333333333333,
              "#9c179e"
             ],
             [
              0.4444444444444444,
              "#bd3786"
             ],
             [
              0.5555555555555556,
              "#d8576b"
             ],
             [
              0.6666666666666666,
              "#ed7953"
             ],
             [
              0.7777777777777778,
              "#fb9f3a"
             ],
             [
              0.8888888888888888,
              "#fdca26"
             ],
             [
              1,
              "#f0f921"
             ]
            ],
            "type": "heatmapgl"
           }
          ],
          "histogram": [
           {
            "marker": {
             "pattern": {
              "fillmode": "overlay",
              "size": 10,
              "solidity": 0.2
             }
            },
            "type": "histogram"
           }
          ],
          "histogram2d": [
           {
            "colorbar": {
             "outlinewidth": 0,
             "ticks": ""
            },
            "colorscale": [
             [
              0,
              "#0d0887"
             ],
             [
              0.1111111111111111,
              "#46039f"
             ],
             [
              0.2222222222222222,
              "#7201a8"
             ],
             [
              0.3333333333333333,
              "#9c179e"
             ],
             [
              0.4444444444444444,
              "#bd3786"
             ],
             [
              0.5555555555555556,
              "#d8576b"
             ],
             [
              0.6666666666666666,
              "#ed7953"
             ],
             [
              0.7777777777777778,
              "#fb9f3a"
             ],
             [
              0.8888888888888888,
              "#fdca26"
             ],
             [
              1,
              "#f0f921"
             ]
            ],
            "type": "histogram2d"
           }
          ],
          "histogram2dcontour": [
           {
            "colorbar": {
             "outlinewidth": 0,
             "ticks": ""
            },
            "colorscale": [
             [
              0,
              "#0d0887"
             ],
             [
              0.1111111111111111,
              "#46039f"
             ],
             [
              0.2222222222222222,
              "#7201a8"
             ],
             [
              0.3333333333333333,
              "#9c179e"
             ],
             [
              0.4444444444444444,
              "#bd3786"
             ],
             [
              0.5555555555555556,
              "#d8576b"
             ],
             [
              0.6666666666666666,
              "#ed7953"
             ],
             [
              0.7777777777777778,
              "#fb9f3a"
             ],
             [
              0.8888888888888888,
              "#fdca26"
             ],
             [
              1,
              "#f0f921"
             ]
            ],
            "type": "histogram2dcontour"
           }
          ],
          "mesh3d": [
           {
            "colorbar": {
             "outlinewidth": 0,
             "ticks": ""
            },
            "type": "mesh3d"
           }
          ],
          "parcoords": [
           {
            "line": {
             "colorbar": {
              "outlinewidth": 0,
              "ticks": ""
             }
            },
            "type": "parcoords"
           }
          ],
          "pie": [
           {
            "automargin": true,
            "type": "pie"
           }
          ],
          "scatter": [
           {
            "fillpattern": {
             "fillmode": "overlay",
             "size": 10,
             "solidity": 0.2
            },
            "type": "scatter"
           }
          ],
          "scatter3d": [
           {
            "line": {
             "colorbar": {
              "outlinewidth": 0,
              "ticks": ""
             }
            },
            "marker": {
             "colorbar": {
              "outlinewidth": 0,
              "ticks": ""
             }
            },
            "type": "scatter3d"
           }
          ],
          "scattercarpet": [
           {
            "marker": {
             "colorbar": {
              "outlinewidth": 0,
              "ticks": ""
             }
            },
            "type": "scattercarpet"
           }
          ],
          "scattergeo": [
           {
            "marker": {
             "colorbar": {
              "outlinewidth": 0,
              "ticks": ""
             }
            },
            "type": "scattergeo"
           }
          ],
          "scattergl": [
           {
            "marker": {
             "colorbar": {
              "outlinewidth": 0,
              "ticks": ""
             }
            },
            "type": "scattergl"
           }
          ],
          "scattermapbox": [
           {
            "marker": {
             "colorbar": {
              "outlinewidth": 0,
              "ticks": ""
             }
            },
            "type": "scattermapbox"
           }
          ],
          "scatterpolar": [
           {
            "marker": {
             "colorbar": {
              "outlinewidth": 0,
              "ticks": ""
             }
            },
            "type": "scatterpolar"
           }
          ],
          "scatterpolargl": [
           {
            "marker": {
             "colorbar": {
              "outlinewidth": 0,
              "ticks": ""
             }
            },
            "type": "scatterpolargl"
           }
          ],
          "scatterternary": [
           {
            "marker": {
             "colorbar": {
              "outlinewidth": 0,
              "ticks": ""
             }
            },
            "type": "scatterternary"
           }
          ],
          "surface": [
           {
            "colorbar": {
             "outlinewidth": 0,
             "ticks": ""
            },
            "colorscale": [
             [
              0,
              "#0d0887"
             ],
             [
              0.1111111111111111,
              "#46039f"
             ],
             [
              0.2222222222222222,
              "#7201a8"
             ],
             [
              0.3333333333333333,
              "#9c179e"
             ],
             [
              0.4444444444444444,
              "#bd3786"
             ],
             [
              0.5555555555555556,
              "#d8576b"
             ],
             [
              0.6666666666666666,
              "#ed7953"
             ],
             [
              0.7777777777777778,
              "#fb9f3a"
             ],
             [
              0.8888888888888888,
              "#fdca26"
             ],
             [
              1,
              "#f0f921"
             ]
            ],
            "type": "surface"
           }
          ],
          "table": [
           {
            "cells": {
             "fill": {
              "color": "#EBF0F8"
             },
             "line": {
              "color": "white"
             }
            },
            "header": {
             "fill": {
              "color": "#C8D4E3"
             },
             "line": {
              "color": "white"
             }
            },
            "type": "table"
           }
          ]
         },
         "layout": {
          "annotationdefaults": {
           "arrowcolor": "#2a3f5f",
           "arrowhead": 0,
           "arrowwidth": 1
          },
          "autotypenumbers": "strict",
          "coloraxis": {
           "colorbar": {
            "outlinewidth": 0,
            "ticks": ""
           }
          },
          "colorscale": {
           "diverging": [
            [
             0,
             "#8e0152"
            ],
            [
             0.1,
             "#c51b7d"
            ],
            [
             0.2,
             "#de77ae"
            ],
            [
             0.3,
             "#f1b6da"
            ],
            [
             0.4,
             "#fde0ef"
            ],
            [
             0.5,
             "#f7f7f7"
            ],
            [
             0.6,
             "#e6f5d0"
            ],
            [
             0.7,
             "#b8e186"
            ],
            [
             0.8,
             "#7fbc41"
            ],
            [
             0.9,
             "#4d9221"
            ],
            [
             1,
             "#276419"
            ]
           ],
           "sequential": [
            [
             0,
             "#0d0887"
            ],
            [
             0.1111111111111111,
             "#46039f"
            ],
            [
             0.2222222222222222,
             "#7201a8"
            ],
            [
             0.3333333333333333,
             "#9c179e"
            ],
            [
             0.4444444444444444,
             "#bd3786"
            ],
            [
             0.5555555555555556,
             "#d8576b"
            ],
            [
             0.6666666666666666,
             "#ed7953"
            ],
            [
             0.7777777777777778,
             "#fb9f3a"
            ],
            [
             0.8888888888888888,
             "#fdca26"
            ],
            [
             1,
             "#f0f921"
            ]
           ],
           "sequentialminus": [
            [
             0,
             "#0d0887"
            ],
            [
             0.1111111111111111,
             "#46039f"
            ],
            [
             0.2222222222222222,
             "#7201a8"
            ],
            [
             0.3333333333333333,
             "#9c179e"
            ],
            [
             0.4444444444444444,
             "#bd3786"
            ],
            [
             0.5555555555555556,
             "#d8576b"
            ],
            [
             0.6666666666666666,
             "#ed7953"
            ],
            [
             0.7777777777777778,
             "#fb9f3a"
            ],
            [
             0.8888888888888888,
             "#fdca26"
            ],
            [
             1,
             "#f0f921"
            ]
           ]
          },
          "colorway": [
           "#636efa",
           "#EF553B",
           "#00cc96",
           "#ab63fa",
           "#FFA15A",
           "#19d3f3",
           "#FF6692",
           "#B6E880",
           "#FF97FF",
           "#FECB52"
          ],
          "font": {
           "color": "#2a3f5f"
          },
          "geo": {
           "bgcolor": "white",
           "lakecolor": "white",
           "landcolor": "#E5ECF6",
           "showlakes": true,
           "showland": true,
           "subunitcolor": "white"
          },
          "hoverlabel": {
           "align": "left"
          },
          "hovermode": "closest",
          "mapbox": {
           "style": "light"
          },
          "paper_bgcolor": "white",
          "plot_bgcolor": "#E5ECF6",
          "polar": {
           "angularaxis": {
            "gridcolor": "white",
            "linecolor": "white",
            "ticks": ""
           },
           "bgcolor": "#E5ECF6",
           "radialaxis": {
            "gridcolor": "white",
            "linecolor": "white",
            "ticks": ""
           }
          },
          "scene": {
           "xaxis": {
            "backgroundcolor": "#E5ECF6",
            "gridcolor": "white",
            "gridwidth": 2,
            "linecolor": "white",
            "showbackground": true,
            "ticks": "",
            "zerolinecolor": "white"
           },
           "yaxis": {
            "backgroundcolor": "#E5ECF6",
            "gridcolor": "white",
            "gridwidth": 2,
            "linecolor": "white",
            "showbackground": true,
            "ticks": "",
            "zerolinecolor": "white"
           },
           "zaxis": {
            "backgroundcolor": "#E5ECF6",
            "gridcolor": "white",
            "gridwidth": 2,
            "linecolor": "white",
            "showbackground": true,
            "ticks": "",
            "zerolinecolor": "white"
           }
          },
          "shapedefaults": {
           "line": {
            "color": "#2a3f5f"
           }
          },
          "ternary": {
           "aaxis": {
            "gridcolor": "white",
            "linecolor": "white",
            "ticks": ""
           },
           "baxis": {
            "gridcolor": "white",
            "linecolor": "white",
            "ticks": ""
           },
           "bgcolor": "#E5ECF6",
           "caxis": {
            "gridcolor": "white",
            "linecolor": "white",
            "ticks": ""
           }
          },
          "title": {
           "x": 0.05
          },
          "xaxis": {
           "automargin": true,
           "gridcolor": "white",
           "linecolor": "white",
           "ticks": "",
           "title": {
            "standoff": 15
           },
           "zerolinecolor": "white",
           "zerolinewidth": 2
          },
          "yaxis": {
           "automargin": true,
           "gridcolor": "white",
           "linecolor": "white",
           "ticks": "",
           "title": {
            "standoff": 15
           },
           "zerolinecolor": "white",
           "zerolinewidth": 2
          }
         }
        },
        "title": {
         "text": "Optimization History Plot"
        },
        "xaxis": {
         "title": {
          "text": "Trial"
         }
        },
        "yaxis": {
         "title": {
          "text": "Objective Value"
         }
        }
       }
      }
     },
     "metadata": {},
     "output_type": "display_data"
    }
   ],
   "source": [
    "optuna.visualization.plot_optimization_history(study)"
   ]
  },
  {
   "cell_type": "code",
   "execution_count": 125,
   "metadata": {},
   "outputs": [
    {
     "name": "stdout",
     "output_type": "stream",
     "text": [
      "  Params: \n",
      "    n_layers: 2\n",
      "    n_units_l0: 393\n",
      "    activation0: linear\n",
      "    dropout0: 0.5608378675915191\n",
      "    n_units_l1: 264\n",
      "    activation1: linear\n",
      "    dropout1: 0.3958831427667795\n",
      "    size: 10\n"
     ]
    }
   ],
   "source": [
    "print(\"  Params: \")\n",
    "for key, value in trial.params.items():\n",
    "  print(\"    {}: {}\".format(key, value))"
   ]
  },
  {
   "cell_type": "code",
   "execution_count": 127,
   "metadata": {},
   "outputs": [],
   "source": [
    "def wider_model():\n",
    "    model = keras.Sequential()\n",
    "    model.add(keras.layers.Dense(393, input_shape=(len(sentence_embeddings[0]),), activation='linear'))\n",
    "    model.add(keras.layers.Dropout(0.5608378675915191))\n",
    "    model.add(keras.layers.Dense(264, activation='linear'))\n",
    "    model.add(keras.layers.Dropout(0.3958831427667795))\n",
    "    model.add(keras.layers.Dense(9,activation=tf.keras.activations.sigmoid))\n",
    "    return model"
   ]
  },
  {
   "cell_type": "code",
   "execution_count": 128,
   "metadata": {},
   "outputs": [
    {
     "name": "stdout",
     "output_type": "stream",
     "text": [
      "#################\n",
      "1\n",
      "#################\n",
      "Epoch 1/200\n",
      "42/42 [==============================] - 1s 9ms/step - loss: 0.5855 - categorical_crossentropy: 9.4211 - val_loss: 0.4752 - val_categorical_crossentropy: 8.9059 - lr: 0.0010\n",
      "Epoch 2/200\n",
      "42/42 [==============================] - 0s 7ms/step - loss: 0.5004 - categorical_crossentropy: 8.6077 - val_loss: 0.4572 - val_categorical_crossentropy: 7.9023 - lr: 0.0010\n",
      "Epoch 3/200\n",
      "29/42 [===================>..........] - ETA: 0s - loss: 0.4857 - categorical_crossentropy: 8.2503\n",
      "Epoch 3: ReduceLROnPlateau reducing learning rate to 0.00010000000474974513.\n",
      "42/42 [==============================] - 0s 4ms/step - loss: 0.4872 - categorical_crossentropy: 8.2563 - val_loss: 0.4612 - val_categorical_crossentropy: 7.5629 - lr: 0.0010\n",
      "Epoch 4/200\n",
      "42/42 [==============================] - 0s 5ms/step - loss: 0.4625 - categorical_crossentropy: 8.0230 - val_loss: 0.4509 - val_categorical_crossentropy: 7.6931 - lr: 1.0000e-04\n",
      "Epoch 5/200\n",
      "30/42 [====================>.........] - ETA: 0s - loss: 0.4557 - categorical_crossentropy: 7.9606\n",
      "Epoch 5: ReduceLROnPlateau reducing learning rate to 1.0000000474974514e-05.\n",
      "42/42 [==============================] - 0s 4ms/step - loss: 0.4528 - categorical_crossentropy: 7.8778 - val_loss: 0.4518 - val_categorical_crossentropy: 7.8171 - lr: 1.0000e-04\n",
      "Epoch 6/200\n",
      "35/42 [========================>.....] - ETA: 0s - loss: 0.4452 - categorical_crossentropy: 7.8956\n",
      "Epoch 6: ReduceLROnPlateau reducing learning rate to 1e-05.\n",
      "42/42 [==============================] - 0s 4ms/step - loss: 0.4467 - categorical_crossentropy: 7.8818 - val_loss: 0.4510 - val_categorical_crossentropy: 7.8030 - lr: 1.0000e-05\n",
      "Epoch 7/200\n",
      "42/42 [==============================] - 0s 5ms/step - loss: 0.4467 - categorical_crossentropy: 7.8650 - val_loss: 0.4510 - val_categorical_crossentropy: 7.7833 - lr: 1.0000e-05\n",
      "Epoch 8/200\n",
      "42/42 [==============================] - 0s 4ms/step - loss: 0.4465 - categorical_crossentropy: 7.8643 - val_loss: 0.4505 - val_categorical_crossentropy: 7.7612 - lr: 1.0000e-05\n",
      "Epoch 9/200\n",
      "42/42 [==============================] - 0s 4ms/step - loss: 0.4443 - categorical_crossentropy: 7.7985 - val_loss: 0.4505 - val_categorical_crossentropy: 7.7519 - lr: 1.0000e-05\n",
      "Epoch 10/200\n",
      "42/42 [==============================] - 0s 5ms/step - loss: 0.4447 - categorical_crossentropy: 7.8056 - val_loss: 0.4504 - val_categorical_crossentropy: 7.7320 - lr: 1.0000e-05\n",
      "Epoch 11/200\n",
      "42/42 [==============================] - 0s 4ms/step - loss: 0.4440 - categorical_crossentropy: 7.7910 - val_loss: 0.4502 - val_categorical_crossentropy: 7.7384 - lr: 1.0000e-05\n",
      "Epoch 12/200\n",
      "42/42 [==============================] - 0s 5ms/step - loss: 0.4431 - categorical_crossentropy: 7.7356 - val_loss: 0.4502 - val_categorical_crossentropy: 7.7421 - lr: 1.0000e-05\n",
      "Epoch 13/200\n",
      "42/42 [==============================] - 0s 4ms/step - loss: 0.4410 - categorical_crossentropy: 7.7755 - val_loss: 0.4500 - val_categorical_crossentropy: 7.7236 - lr: 1.0000e-05\n",
      "Epoch 14/200\n",
      "42/42 [==============================] - 0s 5ms/step - loss: 0.4403 - categorical_crossentropy: 7.7081 - val_loss: 0.4500 - val_categorical_crossentropy: 7.7311 - lr: 1.0000e-05\n",
      "Epoch 15/200\n",
      "42/42 [==============================] - 0s 4ms/step - loss: 0.4389 - categorical_crossentropy: 7.7487 - val_loss: 0.4497 - val_categorical_crossentropy: 7.7629 - lr: 1.0000e-05\n",
      "Epoch 16/200\n",
      "42/42 [==============================] - 0s 3ms/step - loss: 0.4403 - categorical_crossentropy: 7.7349 - val_loss: 0.4498 - val_categorical_crossentropy: 7.7352 - lr: 1.0000e-05\n",
      "Epoch 17/200\n",
      "42/42 [==============================] - 0s 4ms/step - loss: 0.4435 - categorical_crossentropy: 7.8319 - val_loss: 0.4498 - val_categorical_crossentropy: 7.7157 - lr: 1.0000e-05\n",
      "Epoch 18/200\n",
      "42/42 [==============================] - 0s 4ms/step - loss: 0.4390 - categorical_crossentropy: 7.6970 - val_loss: 0.4499 - val_categorical_crossentropy: 7.7167 - lr: 1.0000e-05\n",
      "Epoch 19/200\n",
      "42/42 [==============================] - 0s 4ms/step - loss: 0.4403 - categorical_crossentropy: 7.7289 - val_loss: 0.4497 - val_categorical_crossentropy: 7.7162 - lr: 1.0000e-05\n",
      "Epoch 20/200\n",
      "42/42 [==============================] - 0s 3ms/step - loss: 0.4418 - categorical_crossentropy: 7.7083 - val_loss: 0.4499 - val_categorical_crossentropy: 7.7540 - lr: 1.0000e-05\n",
      "Epoch 21/200\n",
      "42/42 [==============================] - 0s 4ms/step - loss: 0.4415 - categorical_crossentropy: 7.7566 - val_loss: 0.4496 - val_categorical_crossentropy: 7.7321 - lr: 1.0000e-05\n",
      "Epoch 22/200\n",
      "42/42 [==============================] - 0s 4ms/step - loss: 0.4383 - categorical_crossentropy: 7.7223 - val_loss: 0.4495 - val_categorical_crossentropy: 7.7359 - lr: 1.0000e-05\n",
      "Epoch 23/200\n",
      "42/42 [==============================] - 0s 3ms/step - loss: 0.4360 - categorical_crossentropy: 7.7259 - val_loss: 0.4496 - val_categorical_crossentropy: 7.7244 - lr: 1.0000e-05\n",
      "Epoch 24/200\n",
      "42/42 [==============================] - 0s 4ms/step - loss: 0.4368 - categorical_crossentropy: 7.7038 - val_loss: 0.4493 - val_categorical_crossentropy: 7.7518 - lr: 1.0000e-05\n",
      "Epoch 25/200\n",
      "42/42 [==============================] - 0s 4ms/step - loss: 0.4399 - categorical_crossentropy: 7.7490 - val_loss: 0.4495 - val_categorical_crossentropy: 7.7719 - lr: 1.0000e-05\n",
      "Epoch 26/200\n",
      "42/42 [==============================] - 0s 4ms/step - loss: 0.4355 - categorical_crossentropy: 7.7326 - val_loss: 0.4495 - val_categorical_crossentropy: 7.7757 - lr: 1.0000e-05\n",
      "Epoch 27/200\n",
      "42/42 [==============================] - 0s 4ms/step - loss: 0.4398 - categorical_crossentropy: 7.7873 - val_loss: 0.4495 - val_categorical_crossentropy: 7.7748 - lr: 1.0000e-05\n",
      "Epoch 28/200\n",
      "42/42 [==============================] - 0s 4ms/step - loss: 0.4421 - categorical_crossentropy: 7.7353 - val_loss: 0.4497 - val_categorical_crossentropy: 7.7105 - lr: 1.0000e-05\n",
      "Epoch 29/200\n",
      "39/42 [==========================>...] - ETA: 0s - loss: 0.4350 - categorical_crossentropy: 7.7071Restoring model weights from the end of the best epoch: 24.\n",
      "42/42 [==============================] - 0s 4ms/step - loss: 0.4356 - categorical_crossentropy: 7.7083 - val_loss: 0.4494 - val_categorical_crossentropy: 7.7256 - lr: 1.0000e-05\n",
      "Epoch 29: early stopping\n",
      "0.44930943846702576\n",
      "13/13 [==============================] - 0s 921us/step\n",
      "#################\n",
      "2\n",
      "#################\n",
      "Epoch 1/200\n",
      "42/42 [==============================] - 0s 6ms/step - loss: 0.5571 - categorical_crossentropy: 9.0388 - val_loss: 0.5289 - val_categorical_crossentropy: 8.2194 - lr: 0.0010\n",
      "Epoch 2/200\n",
      "42/42 [==============================] - 0s 5ms/step - loss: 0.5112 - categorical_crossentropy: 8.5155 - val_loss: 0.4714 - val_categorical_crossentropy: 7.2393 - lr: 0.0010\n",
      "Epoch 3/200\n",
      "32/42 [=====================>........] - ETA: 0s - loss: 0.4869 - categorical_crossentropy: 8.5222\n",
      "Epoch 3: ReduceLROnPlateau reducing learning rate to 0.00010000000474974513.\n",
      "42/42 [==============================] - 0s 4ms/step - loss: 0.4843 - categorical_crossentropy: 8.4768 - val_loss: 0.4719 - val_categorical_crossentropy: 7.4486 - lr: 0.0010\n",
      "Epoch 4/200\n",
      "42/42 [==============================] - 0s 4ms/step - loss: 0.4626 - categorical_crossentropy: 8.0438 - val_loss: 0.4654 - val_categorical_crossentropy: 8.0183 - lr: 1.0000e-04\n",
      "Epoch 5/200\n",
      "42/42 [==============================] - 0s 4ms/step - loss: 0.4533 - categorical_crossentropy: 8.0963 - val_loss: 0.4622 - val_categorical_crossentropy: 7.7558 - lr: 1.0000e-04\n",
      "Epoch 6/200\n",
      "42/42 [==============================] - 0s 4ms/step - loss: 0.4449 - categorical_crossentropy: 7.9094 - val_loss: 0.4621 - val_categorical_crossentropy: 7.7467 - lr: 1.0000e-04\n",
      "Epoch 7/200\n",
      "42/42 [==============================] - 0s 4ms/step - loss: 0.4400 - categorical_crossentropy: 7.8690 - val_loss: 0.4609 - val_categorical_crossentropy: 7.8484 - lr: 1.0000e-04\n",
      "Epoch 8/200\n",
      "42/42 [==============================] - 0s 4ms/step - loss: 0.4427 - categorical_crossentropy: 7.8822 - val_loss: 0.4604 - val_categorical_crossentropy: 7.7359 - lr: 1.0000e-04\n",
      "Epoch 9/200\n",
      "39/42 [==========================>...] - ETA: 0s - loss: 0.4380 - categorical_crossentropy: 7.9210\n",
      "Epoch 9: ReduceLROnPlateau reducing learning rate to 1.0000000474974514e-05.\n",
      "42/42 [==============================] - 0s 3ms/step - loss: 0.4395 - categorical_crossentropy: 7.9169 - val_loss: 0.4632 - val_categorical_crossentropy: 8.0178 - lr: 1.0000e-04\n",
      "Epoch 10/200\n",
      "37/42 [=========================>....] - ETA: 0s - loss: 0.4324 - categorical_crossentropy: 7.9224\n",
      "Epoch 10: ReduceLROnPlateau reducing learning rate to 1e-05.\n",
      "42/42 [==============================] - 0s 4ms/step - loss: 0.4317 - categorical_crossentropy: 7.9275 - val_loss: 0.4611 - val_categorical_crossentropy: 7.8347 - lr: 1.0000e-05\n",
      "Epoch 11/200\n",
      "42/42 [==============================] - 0s 5ms/step - loss: 0.4347 - categorical_crossentropy: 7.8435 - val_loss: 0.4602 - val_categorical_crossentropy: 7.7488 - lr: 1.0000e-05\n",
      "Epoch 12/200\n",
      "42/42 [==============================] - 0s 4ms/step - loss: 0.4333 - categorical_crossentropy: 7.8208 - val_loss: 0.4597 - val_categorical_crossentropy: 7.7075 - lr: 1.0000e-05\n",
      "Epoch 13/200\n",
      "42/42 [==============================] - 0s 3ms/step - loss: 0.4324 - categorical_crossentropy: 7.7715 - val_loss: 0.4598 - val_categorical_crossentropy: 7.7097 - lr: 1.0000e-05\n",
      "Epoch 14/200\n",
      "42/42 [==============================] - 0s 4ms/step - loss: 0.4326 - categorical_crossentropy: 7.7918 - val_loss: 0.4598 - val_categorical_crossentropy: 7.7370 - lr: 1.0000e-05\n",
      "Epoch 15/200\n",
      "42/42 [==============================] - 0s 4ms/step - loss: 0.4300 - categorical_crossentropy: 7.8183 - val_loss: 0.4600 - val_categorical_crossentropy: 7.7709 - lr: 1.0000e-05\n",
      "Epoch 16/200\n",
      "42/42 [==============================] - 0s 3ms/step - loss: 0.4342 - categorical_crossentropy: 7.8580 - val_loss: 0.4598 - val_categorical_crossentropy: 7.7446 - lr: 1.0000e-05\n",
      "Epoch 17/200\n",
      "38/42 [==========================>...] - ETA: 0s - loss: 0.4327 - categorical_crossentropy: 7.8348Restoring model weights from the end of the best epoch: 12.\n",
      "42/42 [==============================] - 0s 4ms/step - loss: 0.4304 - categorical_crossentropy: 7.7555 - val_loss: 0.4600 - val_categorical_crossentropy: 7.7532 - lr: 1.0000e-05\n",
      "Epoch 17: early stopping\n",
      "0.45974260568618774\n",
      "13/13 [==============================] - 0s 1ms/step\n",
      "#################\n",
      "3\n",
      "#################\n",
      "Epoch 1/200\n",
      "42/42 [==============================] - 0s 6ms/step - loss: 0.5778 - categorical_crossentropy: 9.2975 - val_loss: 0.4759 - val_categorical_crossentropy: 8.4187 - lr: 0.0010\n",
      "Epoch 2/200\n",
      "42/42 [==============================] - 0s 4ms/step - loss: 0.5018 - categorical_crossentropy: 8.5160 - val_loss: 0.4693 - val_categorical_crossentropy: 7.4112 - lr: 0.0010\n",
      "Epoch 3/200\n",
      "42/42 [==============================] - 0s 4ms/step - loss: 0.4947 - categorical_crossentropy: 8.4343 - val_loss: 0.4525 - val_categorical_crossentropy: 7.7339 - lr: 0.0010\n",
      "Epoch 4/200\n",
      "39/42 [==========================>...] - ETA: 0s - loss: 0.4835 - categorical_crossentropy: 8.4081\n",
      "Epoch 4: ReduceLROnPlateau reducing learning rate to 0.00010000000474974513.\n",
      "42/42 [==============================] - 0s 4ms/step - loss: 0.4835 - categorical_crossentropy: 8.4212 - val_loss: 0.4565 - val_categorical_crossentropy: 8.2782 - lr: 0.0010\n",
      "Epoch 5/200\n",
      "42/42 [==============================] - 0s 4ms/step - loss: 0.4558 - categorical_crossentropy: 8.1906 - val_loss: 0.4499 - val_categorical_crossentropy: 7.7430 - lr: 1.0000e-04\n",
      "Epoch 6/200\n",
      "42/42 [==============================] - 0s 4ms/step - loss: 0.4434 - categorical_crossentropy: 7.9720 - val_loss: 0.4460 - val_categorical_crossentropy: 7.5404 - lr: 1.0000e-04\n",
      "Epoch 7/200\n",
      "42/42 [==============================] - 0s 3ms/step - loss: 0.4390 - categorical_crossentropy: 7.8562 - val_loss: 0.4440 - val_categorical_crossentropy: 7.5306 - lr: 1.0000e-04\n",
      "Epoch 8/200\n",
      "28/42 [===================>..........] - ETA: 0s - loss: 0.4337 - categorical_crossentropy: 7.8811\n",
      "Epoch 8: ReduceLROnPlateau reducing learning rate to 1.0000000474974514e-05.\n",
      "42/42 [==============================] - 0s 4ms/step - loss: 0.4339 - categorical_crossentropy: 7.8023 - val_loss: 0.4469 - val_categorical_crossentropy: 7.9291 - lr: 1.0000e-04\n",
      "Epoch 9/200\n",
      "35/42 [========================>.....] - ETA: 0s - loss: 0.4316 - categorical_crossentropy: 7.8862\n",
      "Epoch 9: ReduceLROnPlateau reducing learning rate to 1e-05.\n",
      "42/42 [==============================] - 0s 4ms/step - loss: 0.4343 - categorical_crossentropy: 7.9135 - val_loss: 0.4448 - val_categorical_crossentropy: 7.7788 - lr: 1.0000e-05\n",
      "Epoch 10/200\n",
      "42/42 [==============================] - 0s 3ms/step - loss: 0.4307 - categorical_crossentropy: 7.7344 - val_loss: 0.4441 - val_categorical_crossentropy: 7.7200 - lr: 1.0000e-05\n",
      "Epoch 11/200\n",
      "42/42 [==============================] - 0s 4ms/step - loss: 0.4317 - categorical_crossentropy: 7.7898 - val_loss: 0.4439 - val_categorical_crossentropy: 7.7609 - lr: 1.0000e-05\n",
      "Epoch 12/200\n",
      "42/42 [==============================] - 0s 3ms/step - loss: 0.4327 - categorical_crossentropy: 7.8299 - val_loss: 0.4440 - val_categorical_crossentropy: 7.7376 - lr: 1.0000e-05\n",
      "Epoch 13/200\n",
      "42/42 [==============================] - 0s 4ms/step - loss: 0.4311 - categorical_crossentropy: 7.7403 - val_loss: 0.4438 - val_categorical_crossentropy: 7.7359 - lr: 1.0000e-05\n",
      "Epoch 14/200\n",
      "42/42 [==============================] - 0s 4ms/step - loss: 0.4288 - categorical_crossentropy: 7.6986 - val_loss: 0.4437 - val_categorical_crossentropy: 7.7739 - lr: 1.0000e-05\n",
      "Epoch 15/200\n",
      "42/42 [==============================] - 0s 4ms/step - loss: 0.4286 - categorical_crossentropy: 7.7255 - val_loss: 0.4433 - val_categorical_crossentropy: 7.7526 - lr: 1.0000e-05\n",
      "Epoch 16/200\n",
      "42/42 [==============================] - 0s 4ms/step - loss: 0.4286 - categorical_crossentropy: 7.7880 - val_loss: 0.4432 - val_categorical_crossentropy: 7.7797 - lr: 1.0000e-05\n",
      "Epoch 17/200\n",
      "42/42 [==============================] - 0s 4ms/step - loss: 0.4291 - categorical_crossentropy: 7.7446 - val_loss: 0.4434 - val_categorical_crossentropy: 7.7827 - lr: 1.0000e-05\n",
      "Epoch 18/200\n",
      "42/42 [==============================] - 0s 3ms/step - loss: 0.4282 - categorical_crossentropy: 7.7308 - val_loss: 0.4432 - val_categorical_crossentropy: 7.7810 - lr: 1.0000e-05\n",
      "Epoch 19/200\n",
      "42/42 [==============================] - 0s 3ms/step - loss: 0.4294 - categorical_crossentropy: 7.8320 - val_loss: 0.4434 - val_categorical_crossentropy: 7.7579 - lr: 1.0000e-05\n",
      "Epoch 20/200\n",
      "42/42 [==============================] - 0s 4ms/step - loss: 0.4285 - categorical_crossentropy: 7.7483 - val_loss: 0.4435 - val_categorical_crossentropy: 7.7656 - lr: 1.0000e-05\n",
      "Epoch 21/200\n",
      "40/42 [===========================>..] - ETA: 0s - loss: 0.4266 - categorical_crossentropy: 7.6547Restoring model weights from the end of the best epoch: 16.\n",
      "42/42 [==============================] - 0s 4ms/step - loss: 0.4272 - categorical_crossentropy: 7.6965 - val_loss: 0.4433 - val_categorical_crossentropy: 7.7595 - lr: 1.0000e-05\n",
      "Epoch 21: early stopping\n",
      "0.44319602847099304\n",
      "13/13 [==============================] - 0s 1ms/step\n",
      "#################\n",
      "4\n",
      "#################\n",
      "Epoch 1/200\n",
      "42/42 [==============================] - 0s 5ms/step - loss: 0.5890 - categorical_crossentropy: 9.3291 - val_loss: 0.5086 - val_categorical_crossentropy: 7.5908 - lr: 0.0010\n",
      "Epoch 2/200\n",
      "42/42 [==============================] - 0s 3ms/step - loss: 0.5085 - categorical_crossentropy: 8.4341 - val_loss: 0.4877 - val_categorical_crossentropy: 7.6884 - lr: 0.0010\n",
      "Epoch 3/200\n",
      "42/42 [==============================] - 0s 4ms/step - loss: 0.4841 - categorical_crossentropy: 8.2956 - val_loss: 0.4773 - val_categorical_crossentropy: 8.2437 - lr: 0.0010\n",
      "Epoch 4/200\n",
      "40/42 [===========================>..] - ETA: 0s - loss: 0.4713 - categorical_crossentropy: 8.2620\n",
      "Epoch 4: ReduceLROnPlateau reducing learning rate to 0.00010000000474974513.\n",
      "42/42 [==============================] - 0s 3ms/step - loss: 0.4703 - categorical_crossentropy: 8.3301 - val_loss: 0.4855 - val_categorical_crossentropy: 9.0708 - lr: 0.0010\n",
      "Epoch 5/200\n",
      "42/42 [==============================] - 0s 4ms/step - loss: 0.4549 - categorical_crossentropy: 8.1491 - val_loss: 0.4739 - val_categorical_crossentropy: 8.1667 - lr: 1.0000e-04\n",
      "Epoch 6/200\n",
      "42/42 [==============================] - 0s 4ms/step - loss: 0.4439 - categorical_crossentropy: 7.9783 - val_loss: 0.4738 - val_categorical_crossentropy: 8.3383 - lr: 1.0000e-04\n",
      "Epoch 7/200\n",
      "42/42 [==============================] - 0s 3ms/step - loss: 0.4362 - categorical_crossentropy: 7.8758 - val_loss: 0.4736 - val_categorical_crossentropy: 8.0753 - lr: 1.0000e-04\n",
      "Epoch 8/200\n",
      "38/42 [==========================>...] - ETA: 0s - loss: 0.4323 - categorical_crossentropy: 7.7076\n",
      "Epoch 8: ReduceLROnPlateau reducing learning rate to 1.0000000474974514e-05.\n",
      "42/42 [==============================] - 0s 4ms/step - loss: 0.4325 - categorical_crossentropy: 7.7229 - val_loss: 0.4751 - val_categorical_crossentropy: 8.1676 - lr: 1.0000e-04\n",
      "Epoch 9/200\n",
      "37/42 [=========================>....] - ETA: 0s - loss: 0.4342 - categorical_crossentropy: 7.7249\n",
      "Epoch 9: ReduceLROnPlateau reducing learning rate to 1e-05.\n",
      "42/42 [==============================] - 0s 4ms/step - loss: 0.4330 - categorical_crossentropy: 7.7310 - val_loss: 0.4742 - val_categorical_crossentropy: 8.2599 - lr: 1.0000e-05\n",
      "Epoch 10/200\n",
      "42/42 [==============================] - 0s 4ms/step - loss: 0.4330 - categorical_crossentropy: 7.8302 - val_loss: 0.4740 - val_categorical_crossentropy: 8.2459 - lr: 1.0000e-05\n",
      "Epoch 11/200\n",
      "42/42 [==============================] - 0s 4ms/step - loss: 0.4270 - categorical_crossentropy: 7.7988 - val_loss: 0.4739 - val_categorical_crossentropy: 8.2386 - lr: 1.0000e-05\n",
      "Epoch 12/200\n",
      "22/42 [==============>...............] - ETA: 0s - loss: 0.4300 - categorical_crossentropy: 7.7005Restoring model weights from the end of the best epoch: 7.\n",
      "42/42 [==============================] - 0s 3ms/step - loss: 0.4271 - categorical_crossentropy: 7.7021 - val_loss: 0.4739 - val_categorical_crossentropy: 8.2506 - lr: 1.0000e-05\n",
      "Epoch 12: early stopping\n",
      "0.4736473858356476\n",
      "13/13 [==============================] - 0s 917us/step\n",
      "#################\n",
      "5\n",
      "#################\n",
      "Epoch 1/200\n",
      "42/42 [==============================] - 1s 6ms/step - loss: 0.5779 - categorical_crossentropy: 9.2399 - val_loss: 0.4661 - val_categorical_crossentropy: 7.2634 - lr: 0.0010\n",
      "Epoch 2/200\n",
      "38/42 [==========================>...] - ETA: 0s - loss: 0.5096 - categorical_crossentropy: 8.6662\n",
      "Epoch 2: ReduceLROnPlateau reducing learning rate to 0.00010000000474974513.\n",
      "42/42 [==============================] - 0s 4ms/step - loss: 0.5079 - categorical_crossentropy: 8.5997 - val_loss: 0.4752 - val_categorical_crossentropy: 8.4627 - lr: 0.0010\n",
      "Epoch 3/200\n",
      "42/42 [==============================] - 0s 4ms/step - loss: 0.4815 - categorical_crossentropy: 8.3071 - val_loss: 0.4545 - val_categorical_crossentropy: 7.7337 - lr: 1.0000e-04\n",
      "Epoch 4/200\n",
      "42/42 [==============================] - 0s 3ms/step - loss: 0.4615 - categorical_crossentropy: 7.9820 - val_loss: 0.4537 - val_categorical_crossentropy: 7.5068 - lr: 1.0000e-04\n",
      "Epoch 5/200\n",
      "42/42 [==============================] - 0s 4ms/step - loss: 0.4565 - categorical_crossentropy: 7.8805 - val_loss: 0.4516 - val_categorical_crossentropy: 7.4452 - lr: 1.0000e-04\n",
      "Epoch 6/200\n",
      "29/42 [===================>..........] - ETA: 0s - loss: 0.4485 - categorical_crossentropy: 7.8981\n",
      "Epoch 6: ReduceLROnPlateau reducing learning rate to 1.0000000474974514e-05.\n",
      "42/42 [==============================] - 0s 5ms/step - loss: 0.4533 - categorical_crossentropy: 7.8597 - val_loss: 0.4519 - val_categorical_crossentropy: 7.3837 - lr: 1.0000e-04\n",
      "Epoch 7/200\n",
      "42/42 [==============================] - 0s 3ms/step - loss: 0.4500 - categorical_crossentropy: 7.8000 - val_loss: 0.4512 - val_categorical_crossentropy: 7.3654 - lr: 1.0000e-05\n",
      "Epoch 8/200\n",
      "42/42 [==============================] - 0s 3ms/step - loss: 0.4473 - categorical_crossentropy: 7.7664 - val_loss: 0.4507 - val_categorical_crossentropy: 7.3920 - lr: 1.0000e-05\n",
      "Epoch 9/200\n",
      "42/42 [==============================] - 0s 4ms/step - loss: 0.4510 - categorical_crossentropy: 7.8747 - val_loss: 0.4503 - val_categorical_crossentropy: 7.3957 - lr: 1.0000e-05\n",
      "Epoch 10/200\n",
      "42/42 [==============================] - 0s 4ms/step - loss: 0.4502 - categorical_crossentropy: 7.8033 - val_loss: 0.4500 - val_categorical_crossentropy: 7.3836 - lr: 1.0000e-05\n",
      "Epoch 11/200\n",
      "39/42 [==========================>...] - ETA: 0s - loss: 0.4518 - categorical_crossentropy: 7.8247\n",
      "Epoch 11: ReduceLROnPlateau reducing learning rate to 1e-05.\n",
      "42/42 [==============================] - 0s 4ms/step - loss: 0.4513 - categorical_crossentropy: 7.8224 - val_loss: 0.4501 - val_categorical_crossentropy: 7.3770 - lr: 1.0000e-05\n",
      "Epoch 12/200\n",
      "42/42 [==============================] - 0s 4ms/step - loss: 0.4476 - categorical_crossentropy: 7.7933 - val_loss: 0.4501 - val_categorical_crossentropy: 7.3856 - lr: 1.0000e-05\n",
      "Epoch 13/200\n",
      "42/42 [==============================] - 0s 4ms/step - loss: 0.4469 - categorical_crossentropy: 7.7257 - val_loss: 0.4500 - val_categorical_crossentropy: 7.3749 - lr: 1.0000e-05\n",
      "Epoch 14/200\n",
      "42/42 [==============================] - 0s 4ms/step - loss: 0.4477 - categorical_crossentropy: 7.7599 - val_loss: 0.4499 - val_categorical_crossentropy: 7.4061 - lr: 1.0000e-05\n",
      "Epoch 15/200\n",
      "42/42 [==============================] - 0s 3ms/step - loss: 0.4473 - categorical_crossentropy: 7.8184 - val_loss: 0.4499 - val_categorical_crossentropy: 7.3920 - lr: 1.0000e-05\n",
      "Epoch 16/200\n",
      "42/42 [==============================] - 0s 4ms/step - loss: 0.4479 - categorical_crossentropy: 7.7620 - val_loss: 0.4498 - val_categorical_crossentropy: 7.3878 - lr: 1.0000e-05\n",
      "Epoch 17/200\n",
      "42/42 [==============================] - 0s 4ms/step - loss: 0.4446 - categorical_crossentropy: 7.7926 - val_loss: 0.4498 - val_categorical_crossentropy: 7.4110 - lr: 1.0000e-05\n",
      "Epoch 18/200\n",
      "42/42 [==============================] - 0s 3ms/step - loss: 0.4461 - categorical_crossentropy: 7.7797 - val_loss: 0.4496 - val_categorical_crossentropy: 7.3922 - lr: 1.0000e-05\n",
      "Epoch 19/200\n",
      "42/42 [==============================] - 0s 4ms/step - loss: 0.4466 - categorical_crossentropy: 7.7970 - val_loss: 0.4500 - val_categorical_crossentropy: 7.3783 - lr: 1.0000e-05\n",
      "Epoch 20/200\n",
      "42/42 [==============================] - 0s 5ms/step - loss: 0.4461 - categorical_crossentropy: 7.7552 - val_loss: 0.4496 - val_categorical_crossentropy: 7.3815 - lr: 1.0000e-05\n",
      "Epoch 21/200\n",
      "42/42 [==============================] - 0s 3ms/step - loss: 0.4427 - categorical_crossentropy: 7.7539 - val_loss: 0.4493 - val_categorical_crossentropy: 7.3960 - lr: 1.0000e-05\n",
      "Epoch 22/200\n",
      "42/42 [==============================] - 0s 4ms/step - loss: 0.4466 - categorical_crossentropy: 7.7741 - val_loss: 0.4493 - val_categorical_crossentropy: 7.3620 - lr: 1.0000e-05\n",
      "Epoch 23/200\n",
      "42/42 [==============================] - 0s 3ms/step - loss: 0.4447 - categorical_crossentropy: 7.7811 - val_loss: 0.4489 - val_categorical_crossentropy: 7.4010 - lr: 1.0000e-05\n",
      "Epoch 24/200\n",
      "42/42 [==============================] - 0s 3ms/step - loss: 0.4420 - categorical_crossentropy: 7.7386 - val_loss: 0.4491 - val_categorical_crossentropy: 7.3875 - lr: 1.0000e-05\n",
      "Epoch 25/200\n",
      "42/42 [==============================] - 0s 4ms/step - loss: 0.4436 - categorical_crossentropy: 7.7843 - val_loss: 0.4491 - val_categorical_crossentropy: 7.3961 - lr: 1.0000e-05\n",
      "Epoch 26/200\n",
      "42/42 [==============================] - 0s 4ms/step - loss: 0.4431 - categorical_crossentropy: 7.7279 - val_loss: 0.4488 - val_categorical_crossentropy: 7.3994 - lr: 1.0000e-05\n",
      "Epoch 27/200\n",
      "42/42 [==============================] - 0s 3ms/step - loss: 0.4422 - categorical_crossentropy: 7.7223 - val_loss: 0.4489 - val_categorical_crossentropy: 7.3930 - lr: 1.0000e-05\n",
      "Epoch 28/200\n",
      "42/42 [==============================] - 0s 4ms/step - loss: 0.4420 - categorical_crossentropy: 7.7638 - val_loss: 0.4488 - val_categorical_crossentropy: 7.4052 - lr: 1.0000e-05\n",
      "Epoch 29/200\n",
      "42/42 [==============================] - 0s 3ms/step - loss: 0.4408 - categorical_crossentropy: 7.7659 - val_loss: 0.4488 - val_categorical_crossentropy: 7.4010 - lr: 1.0000e-05\n",
      "Epoch 30/200\n",
      "42/42 [==============================] - 0s 3ms/step - loss: 0.4443 - categorical_crossentropy: 7.7554 - val_loss: 0.4490 - val_categorical_crossentropy: 7.3726 - lr: 1.0000e-05\n",
      "Epoch 31/200\n",
      "29/42 [===================>..........] - ETA: 0s - loss: 0.4456 - categorical_crossentropy: 7.7095Restoring model weights from the end of the best epoch: 26.\n",
      "42/42 [==============================] - 0s 4ms/step - loss: 0.4412 - categorical_crossentropy: 7.7397 - val_loss: 0.4488 - val_categorical_crossentropy: 7.3939 - lr: 1.0000e-05\n",
      "Epoch 31: early stopping\n",
      "0.4487804174423218\n",
      "13/13 [==============================] - 0s 790us/step\n",
      "#################\n",
      "6\n",
      "#################\n",
      "Epoch 1/200\n",
      "42/42 [==============================] - 1s 6ms/step - loss: 0.5762 - categorical_crossentropy: 9.2494 - val_loss: 0.4888 - val_categorical_crossentropy: 8.3844 - lr: 0.0010\n",
      "Epoch 2/200\n",
      "42/42 [==============================] - 0s 4ms/step - loss: 0.5086 - categorical_crossentropy: 8.4085 - val_loss: 0.4600 - val_categorical_crossentropy: 7.2491 - lr: 0.0010\n",
      "Epoch 3/200\n",
      "42/42 [==============================] - 0s 4ms/step - loss: 0.4912 - categorical_crossentropy: 8.3282 - val_loss: 0.4452 - val_categorical_crossentropy: 7.8203 - lr: 0.0010\n",
      "Epoch 4/200\n",
      "40/42 [===========================>..] - ETA: 0s - loss: 0.4747 - categorical_crossentropy: 8.4100\n",
      "Epoch 4: ReduceLROnPlateau reducing learning rate to 0.00010000000474974513.\n",
      "42/42 [==============================] - 0s 5ms/step - loss: 0.4759 - categorical_crossentropy: 8.3972 - val_loss: 0.4468 - val_categorical_crossentropy: 7.7250 - lr: 0.0010\n",
      "Epoch 5/200\n",
      "42/42 [==============================] - 0s 4ms/step - loss: 0.4601 - categorical_crossentropy: 8.1394 - val_loss: 0.4352 - val_categorical_crossentropy: 7.7769 - lr: 1.0000e-04\n",
      "Epoch 6/200\n",
      "42/42 [==============================] - 0s 4ms/step - loss: 0.4502 - categorical_crossentropy: 8.0156 - val_loss: 0.4314 - val_categorical_crossentropy: 7.6415 - lr: 1.0000e-04\n",
      "Epoch 7/200\n",
      "39/42 [==========================>...] - ETA: 0s - loss: 0.4429 - categorical_crossentropy: 7.8840\n",
      "Epoch 7: ReduceLROnPlateau reducing learning rate to 1.0000000474974514e-05.\n",
      "42/42 [==============================] - 0s 4ms/step - loss: 0.4427 - categorical_crossentropy: 7.8713 - val_loss: 0.4327 - val_categorical_crossentropy: 7.4815 - lr: 1.0000e-04\n",
      "Epoch 8/200\n",
      "38/42 [==========================>...] - ETA: 0s - loss: 0.4384 - categorical_crossentropy: 7.7582\n",
      "Epoch 8: ReduceLROnPlateau reducing learning rate to 1e-05.\n",
      "42/42 [==============================] - 0s 4ms/step - loss: 0.4401 - categorical_crossentropy: 7.7739 - val_loss: 0.4317 - val_categorical_crossentropy: 7.5730 - lr: 1.0000e-05\n",
      "Epoch 9/200\n",
      "42/42 [==============================] - 0s 5ms/step - loss: 0.4385 - categorical_crossentropy: 7.7930 - val_loss: 0.4314 - val_categorical_crossentropy: 7.5788 - lr: 1.0000e-05\n",
      "Epoch 10/200\n",
      "42/42 [==============================] - 0s 4ms/step - loss: 0.4322 - categorical_crossentropy: 7.7947 - val_loss: 0.4312 - val_categorical_crossentropy: 7.5909 - lr: 1.0000e-05\n",
      "Epoch 11/200\n",
      "42/42 [==============================] - 0s 5ms/step - loss: 0.4388 - categorical_crossentropy: 7.8315 - val_loss: 0.4314 - val_categorical_crossentropy: 7.5867 - lr: 1.0000e-05\n",
      "Epoch 12/200\n",
      "42/42 [==============================] - 0s 4ms/step - loss: 0.4356 - categorical_crossentropy: 7.8165 - val_loss: 0.4313 - val_categorical_crossentropy: 7.6039 - lr: 1.0000e-05\n",
      "Epoch 13/200\n",
      "42/42 [==============================] - 0s 4ms/step - loss: 0.4359 - categorical_crossentropy: 7.8172 - val_loss: 0.4311 - val_categorical_crossentropy: 7.5806 - lr: 1.0000e-05\n",
      "Epoch 14/200\n",
      "42/42 [==============================] - 0s 5ms/step - loss: 0.4365 - categorical_crossentropy: 7.8130 - val_loss: 0.4309 - val_categorical_crossentropy: 7.5771 - lr: 1.0000e-05\n",
      "Epoch 15/200\n",
      "42/42 [==============================] - 0s 4ms/step - loss: 0.4358 - categorical_crossentropy: 7.8053 - val_loss: 0.4310 - val_categorical_crossentropy: 7.6042 - lr: 1.0000e-05\n",
      "Epoch 16/200\n",
      "42/42 [==============================] - 0s 4ms/step - loss: 0.4351 - categorical_crossentropy: 7.7749 - val_loss: 0.4310 - val_categorical_crossentropy: 7.5895 - lr: 1.0000e-05\n",
      "Epoch 17/200\n",
      "42/42 [==============================] - 0s 4ms/step - loss: 0.4330 - categorical_crossentropy: 7.7605 - val_loss: 0.4310 - val_categorical_crossentropy: 7.5870 - lr: 1.0000e-05\n",
      "Epoch 18/200\n",
      "42/42 [==============================] - 0s 3ms/step - loss: 0.4341 - categorical_crossentropy: 7.7814 - val_loss: 0.4311 - val_categorical_crossentropy: 7.5734 - lr: 1.0000e-05\n",
      "Epoch 19/200\n",
      "42/42 [==============================] - 0s 4ms/step - loss: 0.4299 - categorical_crossentropy: 7.7676 - val_loss: 0.4308 - val_categorical_crossentropy: 7.6107 - lr: 1.0000e-05\n",
      "Epoch 20/200\n",
      "42/42 [==============================] - 0s 3ms/step - loss: 0.4377 - categorical_crossentropy: 7.8473 - val_loss: 0.4310 - val_categorical_crossentropy: 7.5836 - lr: 1.0000e-05\n",
      "Epoch 21/200\n",
      "42/42 [==============================] - 0s 4ms/step - loss: 0.4342 - categorical_crossentropy: 7.7963 - val_loss: 0.4308 - val_categorical_crossentropy: 7.6089 - lr: 1.0000e-05\n",
      "Epoch 22/200\n",
      "42/42 [==============================] - 0s 5ms/step - loss: 0.4341 - categorical_crossentropy: 7.8105 - val_loss: 0.4307 - val_categorical_crossentropy: 7.6049 - lr: 1.0000e-05\n",
      "Epoch 23/200\n",
      "42/42 [==============================] - 0s 4ms/step - loss: 0.4314 - categorical_crossentropy: 7.7176 - val_loss: 0.4305 - val_categorical_crossentropy: 7.5880 - lr: 1.0000e-05\n",
      "Epoch 24/200\n",
      "42/42 [==============================] - 0s 5ms/step - loss: 0.4332 - categorical_crossentropy: 7.8295 - val_loss: 0.4307 - val_categorical_crossentropy: 7.5666 - lr: 1.0000e-05\n",
      "Epoch 25/200\n",
      "42/42 [==============================] - 0s 4ms/step - loss: 0.4335 - categorical_crossentropy: 7.6983 - val_loss: 0.4305 - val_categorical_crossentropy: 7.5558 - lr: 1.0000e-05\n",
      "Epoch 26/200\n",
      "42/42 [==============================] - 0s 4ms/step - loss: 0.4281 - categorical_crossentropy: 7.7465 - val_loss: 0.4305 - val_categorical_crossentropy: 7.5816 - lr: 1.0000e-05\n",
      "Epoch 27/200\n",
      "42/42 [==============================] - 0s 4ms/step - loss: 0.4289 - categorical_crossentropy: 7.7288 - val_loss: 0.4305 - val_categorical_crossentropy: 7.6150 - lr: 1.0000e-05\n",
      "Epoch 28/200\n",
      "42/42 [==============================] - 0s 3ms/step - loss: 0.4309 - categorical_crossentropy: 7.7877 - val_loss: 0.4304 - val_categorical_crossentropy: 7.5785 - lr: 1.0000e-05\n",
      "Epoch 29/200\n",
      "42/42 [==============================] - 0s 4ms/step - loss: 0.4293 - categorical_crossentropy: 7.7345 - val_loss: 0.4304 - val_categorical_crossentropy: 7.5934 - lr: 1.0000e-05\n",
      "Epoch 30/200\n",
      "42/42 [==============================] - 0s 3ms/step - loss: 0.4305 - categorical_crossentropy: 7.7548 - val_loss: 0.4304 - val_categorical_crossentropy: 7.5838 - lr: 1.0000e-05\n",
      "Epoch 31/200\n",
      "42/42 [==============================] - 0s 4ms/step - loss: 0.4335 - categorical_crossentropy: 7.7651 - val_loss: 0.4303 - val_categorical_crossentropy: 7.5925 - lr: 1.0000e-05\n",
      "Epoch 32/200\n",
      "42/42 [==============================] - 0s 4ms/step - loss: 0.4318 - categorical_crossentropy: 7.7394 - val_loss: 0.4304 - val_categorical_crossentropy: 7.5704 - lr: 1.0000e-05\n",
      "Epoch 33/200\n",
      "42/42 [==============================] - 0s 4ms/step - loss: 0.4303 - categorical_crossentropy: 7.7879 - val_loss: 0.4302 - val_categorical_crossentropy: 7.5887 - lr: 1.0000e-05\n",
      "Epoch 34/200\n",
      "42/42 [==============================] - 0s 4ms/step - loss: 0.4289 - categorical_crossentropy: 7.7278 - val_loss: 0.4304 - val_categorical_crossentropy: 7.5692 - lr: 1.0000e-05\n",
      "Epoch 35/200\n",
      "42/42 [==============================] - 0s 4ms/step - loss: 0.4293 - categorical_crossentropy: 7.7509 - val_loss: 0.4301 - val_categorical_crossentropy: 7.6091 - lr: 1.0000e-05\n",
      "Epoch 36/200\n",
      "42/42 [==============================] - 0s 4ms/step - loss: 0.4289 - categorical_crossentropy: 7.7700 - val_loss: 0.4301 - val_categorical_crossentropy: 7.5716 - lr: 1.0000e-05\n",
      "Epoch 37/200\n",
      "42/42 [==============================] - 0s 4ms/step - loss: 0.4301 - categorical_crossentropy: 7.7720 - val_loss: 0.4302 - val_categorical_crossentropy: 7.5696 - lr: 1.0000e-05\n",
      "Epoch 38/200\n",
      "42/42 [==============================] - 0s 3ms/step - loss: 0.4273 - categorical_crossentropy: 7.6835 - val_loss: 0.4299 - val_categorical_crossentropy: 7.5893 - lr: 1.0000e-05\n",
      "Epoch 39/200\n",
      "42/42 [==============================] - 0s 4ms/step - loss: 0.4247 - categorical_crossentropy: 7.6732 - val_loss: 0.4300 - val_categorical_crossentropy: 7.6178 - lr: 1.0000e-05\n",
      "Epoch 40/200\n",
      "42/42 [==============================] - 0s 4ms/step - loss: 0.4281 - categorical_crossentropy: 7.7860 - val_loss: 0.4300 - val_categorical_crossentropy: 7.6291 - lr: 1.0000e-05\n",
      "Epoch 41/200\n",
      "42/42 [==============================] - 0s 4ms/step - loss: 0.4275 - categorical_crossentropy: 7.7654 - val_loss: 0.4298 - val_categorical_crossentropy: 7.6254 - lr: 1.0000e-05\n",
      "Epoch 42/200\n",
      "42/42 [==============================] - 0s 4ms/step - loss: 0.4278 - categorical_crossentropy: 7.7586 - val_loss: 0.4298 - val_categorical_crossentropy: 7.5937 - lr: 1.0000e-05\n",
      "Epoch 43/200\n",
      "42/42 [==============================] - 0s 5ms/step - loss: 0.4279 - categorical_crossentropy: 7.7540 - val_loss: 0.4296 - val_categorical_crossentropy: 7.6280 - lr: 1.0000e-05\n",
      "Epoch 44/200\n",
      "42/42 [==============================] - 0s 3ms/step - loss: 0.4276 - categorical_crossentropy: 7.7882 - val_loss: 0.4296 - val_categorical_crossentropy: 7.5995 - lr: 1.0000e-05\n",
      "Epoch 45/200\n",
      "42/42 [==============================] - 0s 4ms/step - loss: 0.4268 - categorical_crossentropy: 7.7689 - val_loss: 0.4294 - val_categorical_crossentropy: 7.5929 - lr: 1.0000e-05\n",
      "Epoch 46/200\n",
      "42/42 [==============================] - 0s 4ms/step - loss: 0.4278 - categorical_crossentropy: 7.8144 - val_loss: 0.4292 - val_categorical_crossentropy: 7.6188 - lr: 1.0000e-05\n",
      "Epoch 47/200\n",
      "42/42 [==============================] - 0s 4ms/step - loss: 0.4277 - categorical_crossentropy: 7.7627 - val_loss: 0.4295 - val_categorical_crossentropy: 7.5937 - lr: 1.0000e-05\n",
      "Epoch 48/200\n",
      "42/42 [==============================] - 0s 5ms/step - loss: 0.4264 - categorical_crossentropy: 7.7818 - val_loss: 0.4295 - val_categorical_crossentropy: 7.5992 - lr: 1.0000e-05\n",
      "Epoch 49/200\n",
      "42/42 [==============================] - 0s 4ms/step - loss: 0.4280 - categorical_crossentropy: 7.7223 - val_loss: 0.4294 - val_categorical_crossentropy: 7.5711 - lr: 1.0000e-05\n",
      "Epoch 50/200\n",
      "42/42 [==============================] - 0s 5ms/step - loss: 0.4258 - categorical_crossentropy: 7.7178 - val_loss: 0.4295 - val_categorical_crossentropy: 7.6218 - lr: 1.0000e-05\n",
      "Epoch 51/200\n",
      "32/42 [=====================>........] - ETA: 0s - loss: 0.4252 - categorical_crossentropy: 7.6965Restoring model weights from the end of the best epoch: 46.\n",
      "42/42 [==============================] - 0s 4ms/step - loss: 0.4276 - categorical_crossentropy: 7.7786 - val_loss: 0.4294 - val_categorical_crossentropy: 7.6204 - lr: 1.0000e-05\n",
      "Epoch 51: early stopping\n",
      "0.4292227029800415\n",
      "13/13 [==============================] - 0s 917us/step\n",
      "#################\n",
      "7\n",
      "#################\n",
      "Epoch 1/200\n",
      "42/42 [==============================] - 1s 6ms/step - loss: 0.5798 - categorical_crossentropy: 9.1651 - val_loss: 0.4773 - val_categorical_crossentropy: 7.6499 - lr: 0.0010\n",
      "Epoch 2/200\n",
      "42/42 [==============================] - 0s 5ms/step - loss: 0.5113 - categorical_crossentropy: 8.7274 - val_loss: 0.4474 - val_categorical_crossentropy: 7.8028 - lr: 0.0010\n",
      "Epoch 3/200\n",
      "42/42 [==============================] - 0s 4ms/step - loss: 0.4928 - categorical_crossentropy: 8.4915 - val_loss: 0.4377 - val_categorical_crossentropy: 7.4533 - lr: 0.0010\n",
      "Epoch 4/200\n",
      "42/42 [==============================] - 0s 6ms/step - loss: 0.4793 - categorical_crossentropy: 8.3527 - val_loss: 0.4315 - val_categorical_crossentropy: 7.7947 - lr: 0.0010\n",
      "Epoch 5/200\n",
      "33/42 [======================>.......] - ETA: 0s - loss: 0.4655 - categorical_crossentropy: 8.1898\n",
      "Epoch 5: ReduceLROnPlateau reducing learning rate to 0.00010000000474974513.\n",
      "42/42 [==============================] - 0s 4ms/step - loss: 0.4700 - categorical_crossentropy: 8.3647 - val_loss: 0.4373 - val_categorical_crossentropy: 8.1810 - lr: 0.0010\n",
      "Epoch 6/200\n",
      "42/42 [==============================] - 0s 4ms/step - loss: 0.4545 - categorical_crossentropy: 8.3244 - val_loss: 0.4244 - val_categorical_crossentropy: 7.8126 - lr: 1.0000e-04\n",
      "Epoch 7/200\n",
      "42/42 [==============================] - 0s 4ms/step - loss: 0.4422 - categorical_crossentropy: 8.1116 - val_loss: 0.4223 - val_categorical_crossentropy: 7.8236 - lr: 1.0000e-04\n",
      "Epoch 8/200\n",
      "31/42 [=====================>........] - ETA: 0s - loss: 0.4378 - categorical_crossentropy: 7.9266\n",
      "Epoch 8: ReduceLROnPlateau reducing learning rate to 1.0000000474974514e-05.\n",
      "42/42 [==============================] - 0s 4ms/step - loss: 0.4380 - categorical_crossentropy: 7.8713 - val_loss: 0.4231 - val_categorical_crossentropy: 7.6827 - lr: 1.0000e-04\n",
      "Epoch 9/200\n",
      "42/42 [==============================] - 0s 4ms/step - loss: 0.4347 - categorical_crossentropy: 7.8538 - val_loss: 0.4222 - val_categorical_crossentropy: 7.7032 - lr: 1.0000e-05\n",
      "Epoch 10/200\n",
      "42/42 [==============================] - 0s 4ms/step - loss: 0.4287 - categorical_crossentropy: 7.7976 - val_loss: 0.4221 - val_categorical_crossentropy: 7.7009 - lr: 1.0000e-05\n",
      "Epoch 11/200\n",
      "42/42 [==============================] - 0s 3ms/step - loss: 0.4308 - categorical_crossentropy: 7.7849 - val_loss: 0.4218 - val_categorical_crossentropy: 7.7143 - lr: 1.0000e-05\n",
      "Epoch 12/200\n",
      "32/42 [=====================>........] - ETA: 0s - loss: 0.4278 - categorical_crossentropy: 7.7408\n",
      "Epoch 12: ReduceLROnPlateau reducing learning rate to 1e-05.\n",
      "42/42 [==============================] - 0s 4ms/step - loss: 0.4279 - categorical_crossentropy: 7.7782 - val_loss: 0.4221 - val_categorical_crossentropy: 7.7800 - lr: 1.0000e-05\n",
      "Epoch 13/200\n",
      "42/42 [==============================] - 0s 3ms/step - loss: 0.4280 - categorical_crossentropy: 7.8820 - val_loss: 0.4220 - val_categorical_crossentropy: 7.7605 - lr: 1.0000e-05\n",
      "Epoch 14/200\n",
      "42/42 [==============================] - 0s 3ms/step - loss: 0.4271 - categorical_crossentropy: 7.7796 - val_loss: 0.4221 - val_categorical_crossentropy: 7.7422 - lr: 1.0000e-05\n",
      "Epoch 15/200\n",
      "42/42 [==============================] - 0s 4ms/step - loss: 0.4302 - categorical_crossentropy: 7.7911 - val_loss: 0.4220 - val_categorical_crossentropy: 7.7532 - lr: 1.0000e-05\n",
      "Epoch 16/200\n",
      "41/42 [============================>.] - ETA: 0s - loss: 0.4299 - categorical_crossentropy: 7.8512Restoring model weights from the end of the best epoch: 11.\n",
      "42/42 [==============================] - 0s 3ms/step - loss: 0.4299 - categorical_crossentropy: 7.8467 - val_loss: 0.4218 - val_categorical_crossentropy: 7.7638 - lr: 1.0000e-05\n",
      "Epoch 16: early stopping\n",
      "0.42178255319595337\n",
      "13/13 [==============================] - 0s 735us/step\n",
      "#################\n",
      "8\n",
      "#################\n",
      "Epoch 1/200\n",
      "42/42 [==============================] - 0s 5ms/step - loss: 0.5712 - categorical_crossentropy: 9.1010 - val_loss: 0.4982 - val_categorical_crossentropy: 8.4394 - lr: 0.0010\n",
      "Epoch 2/200\n",
      "42/42 [==============================] - 0s 5ms/step - loss: 0.4985 - categorical_crossentropy: 8.2200 - val_loss: 0.4974 - val_categorical_crossentropy: 8.8741 - lr: 0.0010\n",
      "Epoch 3/200\n",
      "42/42 [==============================] - 0s 5ms/step - loss: 0.4840 - categorical_crossentropy: 8.4442 - val_loss: 0.4819 - val_categorical_crossentropy: 8.2326 - lr: 0.0010\n",
      "Epoch 4/200\n",
      "42/42 [==============================] - 0s 4ms/step - loss: 0.4804 - categorical_crossentropy: 8.4835 - val_loss: 0.4808 - val_categorical_crossentropy: 8.2581 - lr: 0.0010\n",
      "Epoch 5/200\n",
      "42/42 [==============================] - 0s 5ms/step - loss: 0.4694 - categorical_crossentropy: 8.4535 - val_loss: 0.4760 - val_categorical_crossentropy: 8.8372 - lr: 0.0010\n",
      "Epoch 6/200\n",
      "35/42 [========================>.....] - ETA: 0s - loss: 0.4662 - categorical_crossentropy: 8.5774\n",
      "Epoch 6: ReduceLROnPlateau reducing learning rate to 0.00010000000474974513.\n",
      "42/42 [==============================] - 0s 4ms/step - loss: 0.4636 - categorical_crossentropy: 8.5445 - val_loss: 0.4864 - val_categorical_crossentropy: 8.4996 - lr: 0.0010\n",
      "Epoch 7/200\n",
      "42/42 [==============================] - 0s 4ms/step - loss: 0.4442 - categorical_crossentropy: 8.0762 - val_loss: 0.4629 - val_categorical_crossentropy: 8.4342 - lr: 1.0000e-04\n",
      "Epoch 8/200\n",
      "41/42 [============================>.] - ETA: 0s - loss: 0.4319 - categorical_crossentropy: 7.9954\n",
      "Epoch 8: ReduceLROnPlateau reducing learning rate to 1.0000000474974514e-05.\n",
      "42/42 [==============================] - 0s 3ms/step - loss: 0.4322 - categorical_crossentropy: 7.9847 - val_loss: 0.4643 - val_categorical_crossentropy: 8.4567 - lr: 1.0000e-04\n",
      "Epoch 9/200\n",
      "42/42 [==============================] - 0s 4ms/step - loss: 0.4253 - categorical_crossentropy: 7.9297 - val_loss: 0.4627 - val_categorical_crossentropy: 8.3079 - lr: 1.0000e-05\n",
      "Epoch 10/200\n",
      "38/42 [==========================>...] - ETA: 0s - loss: 0.4258 - categorical_crossentropy: 7.7439\n",
      "Epoch 10: ReduceLROnPlateau reducing learning rate to 1e-05.\n",
      "42/42 [==============================] - 0s 4ms/step - loss: 0.4248 - categorical_crossentropy: 7.7577 - val_loss: 0.4627 - val_categorical_crossentropy: 8.2846 - lr: 1.0000e-05\n",
      "Epoch 11/200\n",
      "42/42 [==============================] - 0s 4ms/step - loss: 0.4250 - categorical_crossentropy: 7.7440 - val_loss: 0.4624 - val_categorical_crossentropy: 8.2764 - lr: 1.0000e-05\n",
      "Epoch 12/200\n",
      "42/42 [==============================] - 0s 4ms/step - loss: 0.4234 - categorical_crossentropy: 7.8160 - val_loss: 0.4626 - val_categorical_crossentropy: 8.2746 - lr: 1.0000e-05\n",
      "Epoch 13/200\n",
      "42/42 [==============================] - 0s 3ms/step - loss: 0.4238 - categorical_crossentropy: 7.7727 - val_loss: 0.4627 - val_categorical_crossentropy: 8.2974 - lr: 1.0000e-05\n",
      "Epoch 14/200\n",
      "42/42 [==============================] - 0s 4ms/step - loss: 0.4256 - categorical_crossentropy: 7.7986 - val_loss: 0.4624 - val_categorical_crossentropy: 8.2796 - lr: 1.0000e-05\n",
      "Epoch 15/200\n",
      "42/42 [==============================] - 0s 3ms/step - loss: 0.4212 - categorical_crossentropy: 7.8281 - val_loss: 0.4624 - val_categorical_crossentropy: 8.2824 - lr: 1.0000e-05\n",
      "Epoch 16/200\n",
      "42/42 [==============================] - 0s 3ms/step - loss: 0.4221 - categorical_crossentropy: 7.7654 - val_loss: 0.4625 - val_categorical_crossentropy: 8.2983 - lr: 1.0000e-05\n",
      "Epoch 17/200\n",
      "42/42 [==============================] - 0s 5ms/step - loss: 0.4243 - categorical_crossentropy: 7.8012 - val_loss: 0.4620 - val_categorical_crossentropy: 8.2415 - lr: 1.0000e-05\n",
      "Epoch 18/200\n",
      "42/42 [==============================] - 0s 4ms/step - loss: 0.4193 - categorical_crossentropy: 7.6902 - val_loss: 0.4620 - val_categorical_crossentropy: 8.2425 - lr: 1.0000e-05\n",
      "Epoch 19/200\n",
      "42/42 [==============================] - 0s 4ms/step - loss: 0.4209 - categorical_crossentropy: 7.7726 - val_loss: 0.4624 - val_categorical_crossentropy: 8.2740 - lr: 1.0000e-05\n",
      "Epoch 20/200\n",
      "42/42 [==============================] - 0s 3ms/step - loss: 0.4203 - categorical_crossentropy: 7.7227 - val_loss: 0.4626 - val_categorical_crossentropy: 8.3016 - lr: 1.0000e-05\n",
      "Epoch 21/200\n",
      "42/42 [==============================] - 0s 3ms/step - loss: 0.4210 - categorical_crossentropy: 7.7669 - val_loss: 0.4625 - val_categorical_crossentropy: 8.2898 - lr: 1.0000e-05\n",
      "Epoch 22/200\n",
      "42/42 [==============================] - 0s 4ms/step - loss: 0.4179 - categorical_crossentropy: 7.7365 - val_loss: 0.4623 - val_categorical_crossentropy: 8.2929 - lr: 1.0000e-05\n",
      "Epoch 23/200\n",
      "32/42 [=====================>........] - ETA: 0s - loss: 0.4190 - categorical_crossentropy: 7.6642Restoring model weights from the end of the best epoch: 18.\n",
      "42/42 [==============================] - 0s 4ms/step - loss: 0.4173 - categorical_crossentropy: 7.7345 - val_loss: 0.4624 - val_categorical_crossentropy: 8.2743 - lr: 1.0000e-05\n",
      "Epoch 23: early stopping\n",
      "0.4619810879230499\n",
      "13/13 [==============================] - 0s 734us/step\n",
      "#################\n",
      "9\n",
      "#################\n",
      "Epoch 1/200\n",
      "42/42 [==============================] - 0s 6ms/step - loss: 0.5735 - categorical_crossentropy: 9.1982 - val_loss: 0.4717 - val_categorical_crossentropy: 7.0187 - lr: 0.0010\n",
      "Epoch 2/200\n",
      "42/42 [==============================] - 0s 5ms/step - loss: 0.5035 - categorical_crossentropy: 8.6614 - val_loss: 0.4550 - val_categorical_crossentropy: 6.8835 - lr: 0.0010\n",
      "Epoch 3/200\n",
      "42/42 [==============================] - 0s 4ms/step - loss: 0.4909 - categorical_crossentropy: 8.4563 - val_loss: 0.4514 - val_categorical_crossentropy: 7.4917 - lr: 0.0010\n",
      "Epoch 4/200\n",
      "33/42 [======================>.......] - ETA: 0s - loss: 0.4863 - categorical_crossentropy: 8.5401\n",
      "Epoch 4: ReduceLROnPlateau reducing learning rate to 0.00010000000474974513.\n",
      "42/42 [==============================] - 0s 4ms/step - loss: 0.4849 - categorical_crossentropy: 8.5977 - val_loss: 0.4604 - val_categorical_crossentropy: 7.7643 - lr: 0.0010\n",
      "Epoch 5/200\n",
      "42/42 [==============================] - 0s 4ms/step - loss: 0.4568 - categorical_crossentropy: 8.2062 - val_loss: 0.4472 - val_categorical_crossentropy: 7.6352 - lr: 1.0000e-04\n",
      "Epoch 6/200\n",
      "42/42 [==============================] - 0s 3ms/step - loss: 0.4450 - categorical_crossentropy: 7.9934 - val_loss: 0.4455 - val_categorical_crossentropy: 7.3422 - lr: 1.0000e-04\n",
      "Epoch 7/200\n",
      "42/42 [==============================] - 0s 4ms/step - loss: 0.4405 - categorical_crossentropy: 7.9355 - val_loss: 0.4440 - val_categorical_crossentropy: 7.5080 - lr: 1.0000e-04\n",
      "Epoch 8/200\n",
      "38/42 [==========================>...] - ETA: 0s - loss: 0.4310 - categorical_crossentropy: 7.9205\n",
      "Epoch 8: ReduceLROnPlateau reducing learning rate to 1.0000000474974514e-05.\n",
      "42/42 [==============================] - 0s 4ms/step - loss: 0.4339 - categorical_crossentropy: 7.9595 - val_loss: 0.4439 - val_categorical_crossentropy: 7.3139 - lr: 1.0000e-04\n",
      "Epoch 9/200\n",
      "42/42 [==============================] - 0s 4ms/step - loss: 0.4355 - categorical_crossentropy: 7.8314 - val_loss: 0.4435 - val_categorical_crossentropy: 7.3801 - lr: 1.0000e-05\n",
      "Epoch 10/200\n",
      "35/42 [========================>.....] - ETA: 0s - loss: 0.4334 - categorical_crossentropy: 7.8099\n",
      "Epoch 10: ReduceLROnPlateau reducing learning rate to 1e-05.\n",
      "42/42 [==============================] - 0s 4ms/step - loss: 0.4317 - categorical_crossentropy: 7.8748 - val_loss: 0.4437 - val_categorical_crossentropy: 7.3922 - lr: 1.0000e-05\n",
      "Epoch 11/200\n",
      "42/42 [==============================] - 0s 3ms/step - loss: 0.4333 - categorical_crossentropy: 7.8423 - val_loss: 0.4438 - val_categorical_crossentropy: 7.3754 - lr: 1.0000e-05\n",
      "Epoch 12/200\n",
      "42/42 [==============================] - 0s 4ms/step - loss: 0.4336 - categorical_crossentropy: 7.8896 - val_loss: 0.4438 - val_categorical_crossentropy: 7.3908 - lr: 1.0000e-05\n",
      "Epoch 13/200\n",
      "42/42 [==============================] - 0s 3ms/step - loss: 0.4285 - categorical_crossentropy: 7.7703 - val_loss: 0.4438 - val_categorical_crossentropy: 7.3891 - lr: 1.0000e-05\n",
      "Epoch 14/200\n",
      "41/42 [============================>.] - ETA: 0s - loss: 0.4317 - categorical_crossentropy: 7.9103Restoring model weights from the end of the best epoch: 9.\n",
      "42/42 [==============================] - 0s 4ms/step - loss: 0.4315 - categorical_crossentropy: 7.8967 - val_loss: 0.4438 - val_categorical_crossentropy: 7.4094 - lr: 1.0000e-05\n",
      "Epoch 14: early stopping\n",
      "0.4435490667819977\n",
      "13/13 [==============================] - 0s 957us/step\n"
     ]
    }
   ],
   "source": [
    "skf = KFold(n_splits=9, shuffle=True, random_state=1234)\n",
    "Final_Subbmission = []\n",
    "val_loss_print = []\n",
    "i=1\n",
    "for train_index, test_index in skf.split(X_train,Y_train):\n",
    "    keras.backend.clear_session()\n",
    "    print('#################')\n",
    "    print(i)\n",
    "    print('#################')\n",
    "    X_train1, X_test1 = X_train[train_index], X_train[test_index]\n",
    "    y_train, y_test = Y_train.iloc[train_index], Y_train.iloc[test_index]\n",
    "    model = wider_model()\n",
    "    val_ds = (X_test1,y_test)\n",
    "    reduce_lr = ReduceLROnPlateau(monitor='val_loss', factor=0.1,patience=1,min_lr=1e-05,verbose=1)\n",
    "    early_stoping = EarlyStopping(monitor=\"val_loss\",min_delta=0,patience=5,verbose=1,mode=\"auto\", baseline=None,restore_best_weights=True)\n",
    "    model.compile(loss='binary_crossentropy',metrics='categorical_crossentropy', optimizer='Adam')\n",
    "    histroy = model.fit(X_train1,y_train, validation_data=val_ds,epochs=200,callbacks=[reduce_lr,early_stoping],verbose=1,batch_size=34)\n",
    "    print(min(histroy.history['val_loss']))\n",
    "    val_loss_print.append(min(histroy.history['val_loss']))\n",
    "    Test_seq_pred = model.predict(X_test)\n",
    "    Final_Subbmission.append(Test_seq_pred)\n",
    "    i+=1"
   ]
  },
  {
   "cell_type": "code",
   "execution_count": 129,
   "metadata": {},
   "outputs": [],
   "source": [
    "Test_prob =np.mean(Final_Subbmission,0)\n",
    "Test_prob = pd.DataFrame(Test_prob)\n",
    "Test_prob.columns = comments_labels.columns"
   ]
  },
  {
   "cell_type": "code",
   "execution_count": 130,
   "metadata": {},
   "outputs": [
    {
     "name": "stdout",
     "output_type": "stream",
     "text": [
      "weighted: 0.74 \n"
     ]
    }
   ],
   "source": [
    "test_y1 = Y_test.reset_index(drop=True)\n",
    "print(\"weighted: {:.2f} \".format( metrics.average_precision_score(test_y1, Test_prob, average='weighted')))"
   ]
  },
  {
   "cell_type": "code",
   "execution_count": 131,
   "metadata": {},
   "outputs": [],
   "source": [
    "from sklearn.metrics import roc_curve\n",
    "fpr, tpr, thresholds = metrics.roc_curve(Y_test.values.ravel(), Test_prob.values.ravel())\n",
    "optimal_threshold = thresholds[np.argmax(tpr - fpr)]\n"
   ]
  },
  {
   "cell_type": "code",
   "execution_count": 132,
   "metadata": {},
   "outputs": [
    {
     "name": "stdout",
     "output_type": "stream",
     "text": [
      "Classification Report: \n",
      "               precision    recall  f1-score   support\n",
      "\n",
      "           0       0.84      1.00      0.91       338\n",
      "           1       0.82      1.00      0.90       329\n",
      "           2       0.53      0.62      0.57       148\n",
      "           3       0.51      0.86      0.64       190\n",
      "           4       0.43      0.48      0.45        88\n",
      "           5       0.71      0.24      0.36        42\n",
      "           6       0.58      0.72      0.64       154\n",
      "           7       0.57      0.09      0.15        47\n",
      "           8       0.60      0.42      0.50        78\n",
      "\n",
      "   micro avg       0.68      0.79      0.73      1414\n",
      "   macro avg       0.62      0.60      0.57      1414\n",
      "weighted avg       0.68      0.79      0.72      1414\n",
      " samples avg       0.68      0.81      0.71      1414\n",
      "\n",
      "Overall Accuracy: 10.47\n"
     ]
    }
   ],
   "source": [
    "from sklearn.metrics import classification_report\n",
    "\n",
    "# Convert continuous values to discrete class labels\n",
    "Test_prob_discrete = Test_prob.apply(lambda x: [1 if val >= optimal_threshold else 0 for val in x])\n",
    "\n",
    "report = classification_report(test_y1, Test_prob_discrete, zero_division=1)\n",
    "acc = metrics.accuracy_score(test_y1, Test_prob_discrete)\n",
    "print(\"Classification Report: \\n\", report)\n",
    "print(\"Overall Accuracy: {:.2f}\".format(acc*100))\n"
   ]
  },
  {
   "cell_type": "code",
   "execution_count": 133,
   "metadata": {},
   "outputs": [
    {
     "data": {
      "text/plain": [
       "0.34980062"
      ]
     },
     "execution_count": 133,
     "metadata": {},
     "output_type": "execute_result"
    }
   ],
   "source": [
    "optimal_threshold"
   ]
  },
  {
   "cell_type": "code",
   "execution_count": 134,
   "metadata": {},
   "outputs": [
    {
     "data": {
      "text/html": [
       "<div>\n",
       "<style scoped>\n",
       "    .dataframe tbody tr th:only-of-type {\n",
       "        vertical-align: middle;\n",
       "    }\n",
       "\n",
       "    .dataframe tbody tr th {\n",
       "        vertical-align: top;\n",
       "    }\n",
       "\n",
       "    .dataframe thead th {\n",
       "        text-align: right;\n",
       "    }\n",
       "</style>\n",
       "<table border=\"1\" class=\"dataframe\">\n",
       "  <thead>\n",
       "    <tr style=\"text-align: right;\">\n",
       "      <th></th>\n",
       "      <th>Tag1</th>\n",
       "      <th>Tag2</th>\n",
       "      <th>Tag3</th>\n",
       "      <th>Tag4</th>\n",
       "      <th>Tag5</th>\n",
       "      <th>Tag6</th>\n",
       "      <th>Tag7</th>\n",
       "      <th>Tag8</th>\n",
       "      <th>Tag9</th>\n",
       "    </tr>\n",
       "  </thead>\n",
       "  <tbody>\n",
       "    <tr>\n",
       "      <th>0</th>\n",
       "      <td>1</td>\n",
       "      <td>1</td>\n",
       "      <td>1</td>\n",
       "      <td>1</td>\n",
       "      <td>0</td>\n",
       "      <td>0</td>\n",
       "      <td>0</td>\n",
       "      <td>1</td>\n",
       "      <td>0</td>\n",
       "    </tr>\n",
       "    <tr>\n",
       "      <th>1</th>\n",
       "      <td>1</td>\n",
       "      <td>1</td>\n",
       "      <td>0</td>\n",
       "      <td>1</td>\n",
       "      <td>0</td>\n",
       "      <td>0</td>\n",
       "      <td>0</td>\n",
       "      <td>0</td>\n",
       "      <td>0</td>\n",
       "    </tr>\n",
       "    <tr>\n",
       "      <th>2</th>\n",
       "      <td>1</td>\n",
       "      <td>1</td>\n",
       "      <td>0</td>\n",
       "      <td>0</td>\n",
       "      <td>0</td>\n",
       "      <td>0</td>\n",
       "      <td>1</td>\n",
       "      <td>0</td>\n",
       "      <td>0</td>\n",
       "    </tr>\n",
       "    <tr>\n",
       "      <th>3</th>\n",
       "      <td>1</td>\n",
       "      <td>1</td>\n",
       "      <td>1</td>\n",
       "      <td>0</td>\n",
       "      <td>1</td>\n",
       "      <td>1</td>\n",
       "      <td>0</td>\n",
       "      <td>0</td>\n",
       "      <td>0</td>\n",
       "    </tr>\n",
       "    <tr>\n",
       "      <th>4</th>\n",
       "      <td>1</td>\n",
       "      <td>1</td>\n",
       "      <td>0</td>\n",
       "      <td>0</td>\n",
       "      <td>0</td>\n",
       "      <td>0</td>\n",
       "      <td>0</td>\n",
       "      <td>0</td>\n",
       "      <td>0</td>\n",
       "    </tr>\n",
       "    <tr>\n",
       "      <th>...</th>\n",
       "      <td>...</td>\n",
       "      <td>...</td>\n",
       "      <td>...</td>\n",
       "      <td>...</td>\n",
       "      <td>...</td>\n",
       "      <td>...</td>\n",
       "      <td>...</td>\n",
       "      <td>...</td>\n",
       "      <td>...</td>\n",
       "    </tr>\n",
       "    <tr>\n",
       "      <th>396</th>\n",
       "      <td>0</td>\n",
       "      <td>1</td>\n",
       "      <td>0</td>\n",
       "      <td>0</td>\n",
       "      <td>1</td>\n",
       "      <td>0</td>\n",
       "      <td>0</td>\n",
       "      <td>0</td>\n",
       "      <td>0</td>\n",
       "    </tr>\n",
       "    <tr>\n",
       "      <th>397</th>\n",
       "      <td>0</td>\n",
       "      <td>1</td>\n",
       "      <td>0</td>\n",
       "      <td>0</td>\n",
       "      <td>0</td>\n",
       "      <td>0</td>\n",
       "      <td>1</td>\n",
       "      <td>0</td>\n",
       "      <td>0</td>\n",
       "    </tr>\n",
       "    <tr>\n",
       "      <th>398</th>\n",
       "      <td>1</td>\n",
       "      <td>1</td>\n",
       "      <td>1</td>\n",
       "      <td>1</td>\n",
       "      <td>1</td>\n",
       "      <td>0</td>\n",
       "      <td>1</td>\n",
       "      <td>0</td>\n",
       "      <td>0</td>\n",
       "    </tr>\n",
       "    <tr>\n",
       "      <th>399</th>\n",
       "      <td>1</td>\n",
       "      <td>0</td>\n",
       "      <td>1</td>\n",
       "      <td>0</td>\n",
       "      <td>0</td>\n",
       "      <td>0</td>\n",
       "      <td>0</td>\n",
       "      <td>0</td>\n",
       "      <td>0</td>\n",
       "    </tr>\n",
       "    <tr>\n",
       "      <th>400</th>\n",
       "      <td>1</td>\n",
       "      <td>1</td>\n",
       "      <td>0</td>\n",
       "      <td>1</td>\n",
       "      <td>0</td>\n",
       "      <td>0</td>\n",
       "      <td>0</td>\n",
       "      <td>0</td>\n",
       "      <td>1</td>\n",
       "    </tr>\n",
       "  </tbody>\n",
       "</table>\n",
       "<p>401 rows × 9 columns</p>\n",
       "</div>"
      ],
      "text/plain": [
       "     Tag1  Tag2  Tag3  Tag4  Tag5  Tag6  Tag7  Tag8  Tag9\n",
       "0       1     1     1     1     0     0     0     1     0\n",
       "1       1     1     0     1     0     0     0     0     0\n",
       "2       1     1     0     0     0     0     1     0     0\n",
       "3       1     1     1     0     1     1     0     0     0\n",
       "4       1     1     0     0     0     0     0     0     0\n",
       "..    ...   ...   ...   ...   ...   ...   ...   ...   ...\n",
       "396     0     1     0     0     1     0     0     0     0\n",
       "397     0     1     0     0     0     0     1     0     0\n",
       "398     1     1     1     1     1     0     1     0     0\n",
       "399     1     0     1     0     0     0     0     0     0\n",
       "400     1     1     0     1     0     0     0     0     1\n",
       "\n",
       "[401 rows x 9 columns]"
      ]
     },
     "execution_count": 134,
     "metadata": {},
     "output_type": "execute_result"
    }
   ],
   "source": [
    "test_y1"
   ]
  },
  {
   "cell_type": "code",
   "execution_count": 135,
   "metadata": {},
   "outputs": [
    {
     "data": {
      "text/html": [
       "<div>\n",
       "<style scoped>\n",
       "    .dataframe tbody tr th:only-of-type {\n",
       "        vertical-align: middle;\n",
       "    }\n",
       "\n",
       "    .dataframe tbody tr th {\n",
       "        vertical-align: top;\n",
       "    }\n",
       "\n",
       "    .dataframe thead th {\n",
       "        text-align: right;\n",
       "    }\n",
       "</style>\n",
       "<table border=\"1\" class=\"dataframe\">\n",
       "  <thead>\n",
       "    <tr style=\"text-align: right;\">\n",
       "      <th></th>\n",
       "      <th>Tag1</th>\n",
       "      <th>Tag2</th>\n",
       "      <th>Tag3</th>\n",
       "      <th>Tag4</th>\n",
       "      <th>Tag5</th>\n",
       "      <th>Tag6</th>\n",
       "      <th>Tag7</th>\n",
       "      <th>Tag8</th>\n",
       "      <th>Tag9</th>\n",
       "    </tr>\n",
       "  </thead>\n",
       "  <tbody>\n",
       "    <tr>\n",
       "      <th>0</th>\n",
       "      <td>1</td>\n",
       "      <td>1</td>\n",
       "      <td>1</td>\n",
       "      <td>1</td>\n",
       "      <td>0</td>\n",
       "      <td>0</td>\n",
       "      <td>0</td>\n",
       "      <td>0</td>\n",
       "      <td>0</td>\n",
       "    </tr>\n",
       "    <tr>\n",
       "      <th>1</th>\n",
       "      <td>1</td>\n",
       "      <td>1</td>\n",
       "      <td>0</td>\n",
       "      <td>1</td>\n",
       "      <td>0</td>\n",
       "      <td>0</td>\n",
       "      <td>1</td>\n",
       "      <td>0</td>\n",
       "      <td>0</td>\n",
       "    </tr>\n",
       "    <tr>\n",
       "      <th>2</th>\n",
       "      <td>1</td>\n",
       "      <td>1</td>\n",
       "      <td>1</td>\n",
       "      <td>1</td>\n",
       "      <td>1</td>\n",
       "      <td>0</td>\n",
       "      <td>1</td>\n",
       "      <td>0</td>\n",
       "      <td>0</td>\n",
       "    </tr>\n",
       "    <tr>\n",
       "      <th>3</th>\n",
       "      <td>1</td>\n",
       "      <td>1</td>\n",
       "      <td>1</td>\n",
       "      <td>1</td>\n",
       "      <td>0</td>\n",
       "      <td>0</td>\n",
       "      <td>0</td>\n",
       "      <td>0</td>\n",
       "      <td>1</td>\n",
       "    </tr>\n",
       "    <tr>\n",
       "      <th>4</th>\n",
       "      <td>1</td>\n",
       "      <td>1</td>\n",
       "      <td>0</td>\n",
       "      <td>0</td>\n",
       "      <td>0</td>\n",
       "      <td>0</td>\n",
       "      <td>0</td>\n",
       "      <td>0</td>\n",
       "      <td>0</td>\n",
       "    </tr>\n",
       "    <tr>\n",
       "      <th>...</th>\n",
       "      <td>...</td>\n",
       "      <td>...</td>\n",
       "      <td>...</td>\n",
       "      <td>...</td>\n",
       "      <td>...</td>\n",
       "      <td>...</td>\n",
       "      <td>...</td>\n",
       "      <td>...</td>\n",
       "      <td>...</td>\n",
       "    </tr>\n",
       "    <tr>\n",
       "      <th>396</th>\n",
       "      <td>1</td>\n",
       "      <td>1</td>\n",
       "      <td>0</td>\n",
       "      <td>1</td>\n",
       "      <td>0</td>\n",
       "      <td>0</td>\n",
       "      <td>0</td>\n",
       "      <td>0</td>\n",
       "      <td>0</td>\n",
       "    </tr>\n",
       "    <tr>\n",
       "      <th>397</th>\n",
       "      <td>1</td>\n",
       "      <td>1</td>\n",
       "      <td>0</td>\n",
       "      <td>0</td>\n",
       "      <td>0</td>\n",
       "      <td>0</td>\n",
       "      <td>1</td>\n",
       "      <td>0</td>\n",
       "      <td>0</td>\n",
       "    </tr>\n",
       "    <tr>\n",
       "      <th>398</th>\n",
       "      <td>1</td>\n",
       "      <td>1</td>\n",
       "      <td>1</td>\n",
       "      <td>1</td>\n",
       "      <td>0</td>\n",
       "      <td>0</td>\n",
       "      <td>1</td>\n",
       "      <td>0</td>\n",
       "      <td>0</td>\n",
       "    </tr>\n",
       "    <tr>\n",
       "      <th>399</th>\n",
       "      <td>1</td>\n",
       "      <td>1</td>\n",
       "      <td>1</td>\n",
       "      <td>1</td>\n",
       "      <td>0</td>\n",
       "      <td>0</td>\n",
       "      <td>1</td>\n",
       "      <td>0</td>\n",
       "      <td>0</td>\n",
       "    </tr>\n",
       "    <tr>\n",
       "      <th>400</th>\n",
       "      <td>1</td>\n",
       "      <td>1</td>\n",
       "      <td>1</td>\n",
       "      <td>1</td>\n",
       "      <td>0</td>\n",
       "      <td>0</td>\n",
       "      <td>0</td>\n",
       "      <td>0</td>\n",
       "      <td>0</td>\n",
       "    </tr>\n",
       "  </tbody>\n",
       "</table>\n",
       "<p>401 rows × 9 columns</p>\n",
       "</div>"
      ],
      "text/plain": [
       "     Tag1  Tag2  Tag3  Tag4  Tag5  Tag6  Tag7  Tag8  Tag9\n",
       "0       1     1     1     1     0     0     0     0     0\n",
       "1       1     1     0     1     0     0     1     0     0\n",
       "2       1     1     1     1     1     0     1     0     0\n",
       "3       1     1     1     1     0     0     0     0     1\n",
       "4       1     1     0     0     0     0     0     0     0\n",
       "..    ...   ...   ...   ...   ...   ...   ...   ...   ...\n",
       "396     1     1     0     1     0     0     0     0     0\n",
       "397     1     1     0     0     0     0     1     0     0\n",
       "398     1     1     1     1     0     0     1     0     0\n",
       "399     1     1     1     1     0     0     1     0     0\n",
       "400     1     1     1     1     0     0     0     0     0\n",
       "\n",
       "[401 rows x 9 columns]"
      ]
     },
     "execution_count": 135,
     "metadata": {},
     "output_type": "execute_result"
    }
   ],
   "source": [
    "Test_prob_discrete"
   ]
  },
  {
   "cell_type": "code",
   "execution_count": 136,
   "metadata": {},
   "outputs": [
    {
     "data": {
      "image/png": "[encoded data removed]",
      "text/plain": [
       "<Figure size 1000x800 with 1 Axes>"
      ]
     },
     "metadata": {},
     "output_type": "display_data"
    }
   ],
   "source": [
    "import matplotlib.pyplot as plt\n",
    "# Assuming you have the true labels Y_test and predicted probabilities Test_prob\n",
    "fpr, tpr, thresholds = roc_curve(Y_test.values.ravel(), Test_prob.values.ravel())\n",
    "\n",
    "# Plotting the ROC curve\n",
    "plt.plot(fpr, tpr)\n",
    "plt.xlabel('False Positive Rate')\n",
    "plt.ylabel('True Positive Rate')\n",
    "plt.title('Receiver Operating Characteristic (ROC) Curve')\n",
    "plt.show()\n"
   ]
  },
  {
   "cell_type": "code",
   "execution_count": 2,
   "metadata": {},
   "outputs": [],
   "source": [
    "model = keras.models.load_model('model.h5')\n"
   ]
  },
  {
   "cell_type": "code",
   "execution_count": 35,
   "metadata": {},
   "outputs": [],
   "source": [
    "ip = {'i want to die', 'this world is so fucking shit', 'i wish i was dead'}\n"
   ]
  },
  {
   "cell_type": "code",
   "execution_count": 36,
   "metadata": {},
   "outputs": [],
   "source": [
    "from nltk.corpus import stopwords\n",
    "from nltk.tokenize import word_tokenize\n",
    "import re\n",
    "\n",
    "# Define a function to preprocess the text\n",
    "def preprocess_text(text):\n",
    "    # Convert text to lowercase\n",
    "    text = text.lower()\n",
    "    \n",
    "    # Remove special characters and numbers\n",
    "    text = re.sub(r'[^a-zA-Z]', ' ', text)\n",
    "    \n",
    "    # Tokenize the text\n",
    "    tokens = word_tokenize(text)\n",
    "    \n",
    "    # Remove stopwords\n",
    "    stop_words = set(stopwords.words('english'))\n",
    "    tokens = [token for token in tokens if token not in stop_words]\n",
    "    \n",
    "    # Join the tokens back into a string\n",
    "    processed_text = ' '.join(tokens)\n",
    "    \n",
    "    return processed_text\n"
   ]
  },
  {
   "cell_type": "code",
   "execution_count": 37,
   "metadata": {},
   "outputs": [],
   "source": [
    "labeldict ={'Feeling-bad-about-yourself-or-that-you-are-a-failure-or-have-let-yourself-or-your-family-down': 0,\n",
    "            'Feeling-down-depressed-or-hopeless': 1, \n",
    "            'Feeling-tired-or-having-little-energy': 2, \n",
    "            'Little-interest-or-pleasure-in-doing ': 3,\n",
    "            'Moving-or-speaking-so-slowly-that-other-people-could-have-noticed-Or-the-opposite-being-so-fidgety-or-restless-that-you-have-been-moving-around-a-lot-more-than-usual':4, \n",
    "            'Poor-appetite-or-overeating': 5, \n",
    "            'Thoughts-that-you-would-be-better-off-dead-or-of-hurting-yourself-in-some-way': 6, \n",
    "            'Trouble-concentrating-on-things-such-as-reading-the-newspaper-or-watching-television': 7, \n",
    "            'Trouble-falling-or-staying-asleep-or-sleeping-too-much': 8}"
   ]
  },
  {
   "cell_type": "code",
   "execution_count": 38,
   "metadata": {},
   "outputs": [
    {
     "name": "stderr",
     "output_type": "stream",
     "text": [
      "No sentence-transformers model found with name google-bert/bert-base-uncased. Creating a new one with MEAN pooling.\n"
     ]
    }
   ],
   "source": [
    "embedder = SentenceTransformer('google-bert/bert-base-uncased')\n",
    "embedder.max_seq_length = 512\n",
    "results = {}\n",
    "for input_string in ip:\n",
    "    # Preprocess the input string\n",
    "    processed_input = preprocess_text(input_string)\n",
    "\n",
    "    # Encode the processed input using the SentenceTransformer model\n",
    "    embedded_input = embedder.encode([processed_input], show_progress_bar=False)\n",
    "\n",
    "    # Make predictions for the input\n",
    "    input_predictions = model.predict(embedded_input)\n",
    "    input_predictions = pd.DataFrame(input_predictions)\n",
    "    input_predictions = input_predictions.apply(lambda x: [1 if val >= 0.349802 else 0 for val in x])\n",
    "\n",
    "    # Get the labels for input predictions\n",
    "    input_predicted_labels = [(label, \"yes\" if input_predictions[value][0] == 1 else \"no\") for label, value in labeldict.items()]\n",
    "\n",
    "    # Store the result in the dictionary\n",
    "    results[input_string] = input_predicted_labels\n",
    "\n",
    "# Ensure that all variables and functions are used correctly\n"
   ]
  },
  {
   "cell_type": "code",
   "execution_count": 40,
   "metadata": {},
   "outputs": [
    {
     "name": "stdout",
     "output_type": "stream",
     "text": [
      "1/1 [==============================] - 0s 28ms/step\n",
      "1/1 [==============================] - 0s 31ms/step\n",
      "1/1 [==============================] - 0s 31ms/step\n"
     ]
    }
   ],
   "source": [
    "results = {}\n",
    "for input_string in ip:\n",
    "    # Preprocess the input string\n",
    "    processed_input = preprocess_text(input_string)\n",
    "\n",
    "    # Encode the processed input using the SentenceTransformer model\n",
    "    embedded_input = embedder.encode([processed_input], show_progress_bar=False)\n",
    "\n",
    "    # Make predictions for the input\n",
    "    input_predictions = model.predict(embedded_input)\n",
    "    input_predictions = pd.DataFrame(input_predictions)\n",
    "    input_predictions = input_predictions.apply(lambda x: [1 if val >= 0.349802 else 0 for val in x])\n",
    "\n",
    "    # Get the labels for input predictions\n",
    "    input_predicted_labels = [(label, \"yes\" if input_predictions[value][0] == 1 else \"no\") for label, value in labeldict.items()]\n",
    "\n",
    "    # Store the result in the dictionary\n",
    "    results[input_string] = input_predicted_labels\n",
    "\n",
    "# Ensure that all variables and functions are used correctly\n"
   ]
  },
  {
   "cell_type": "code",
   "execution_count": 42,
   "metadata": {},
   "outputs": [
    {
     "name": "stdout",
     "output_type": "stream",
     "text": [
      "{'this world is so fucking shit': [('Feeling-bad-about-yourself-or-that-you-are-a-failure-or-have-let-yourself-or-your-family-down', 'yes'), ('Feeling-down-depressed-or-hopeless', 'yes'), ('Feeling-tired-or-having-little-energy', 'no'), ('Little-interest-or-pleasure-in-doing ', 'no'), ('Moving-or-speaking-so-slowly-that-other-people-could-have-noticed-Or-the-opposite-being-so-fidgety-or-restless-that-you-have-been-moving-around-a-lot-more-than-usual', 'no'), ('Poor-appetite-or-overeating', 'no'), ('Thoughts-that-you-would-be-better-off-dead-or-of-hurting-yourself-in-some-way', 'no'), ('Trouble-concentrating-on-things-such-as-reading-the-newspaper-or-watching-television', 'no'), ('Trouble-falling-or-staying-asleep-or-sleeping-too-much', 'no')], 'i want to die': [('Feeling-bad-about-yourself-or-that-you-are-a-failure-or-have-let-yourself-or-your-family-down', 'yes'), ('Feeling-down-depressed-or-hopeless', 'no'), ('Feeling-tired-or-having-little-energy', 'yes'), ('Little-interest-or-pleasure-in-doing ', 'no'), ('Moving-or-speaking-so-slowly-that-other-people-could-have-noticed-Or-the-opposite-being-so-fidgety-or-restless-that-you-have-been-moving-around-a-lot-more-than-usual', 'no'), ('Poor-appetite-or-overeating', 'yes'), ('Thoughts-that-you-would-be-better-off-dead-or-of-hurting-yourself-in-some-way', 'yes'), ('Trouble-concentrating-on-things-such-as-reading-the-newspaper-or-watching-television', 'no'), ('Trouble-falling-or-staying-asleep-or-sleeping-too-much', 'no')], 'i wish i was dead': [('Feeling-bad-about-yourself-or-that-you-are-a-failure-or-have-let-yourself-or-your-family-down', 'yes'), ('Feeling-down-depressed-or-hopeless', 'yes'), ('Feeling-tired-or-having-little-energy', 'yes'), ('Little-interest-or-pleasure-in-doing ', 'no'), ('Moving-or-speaking-so-slowly-that-other-people-could-have-noticed-Or-the-opposite-being-so-fidgety-or-restless-that-you-have-been-moving-around-a-lot-more-than-usual', 'no'), ('Poor-appetite-or-overeating', 'no'), ('Thoughts-that-you-would-be-better-off-dead-or-of-hurting-yourself-in-some-way', 'yes'), ('Trouble-concentrating-on-things-such-as-reading-the-newspaper-or-watching-television', 'no'), ('Trouble-falling-or-staying-asleep-or-sleeping-too-much', 'yes')]}\n"
     ]
    }
   ],
   "source": [
    "print(results)"
   ]
  },
  {
   "cell_type": "code",
   "execution_count": null,
   "metadata": {},
   "outputs": [],
   "source": []
  }
 ],
 "metadata": {
  "kernelspec": {
   "display_name": "Python 3",
   "language": "python",
   "name": "python3"
  },
  "language_info": {
   "codemirror_mode": {
    "name": "ipython",
    "version": 3
   },
   "file_extension": ".py",
   "mimetype": "text/x-python",
   "name": "python",
   "nbconvert_exporter": "python",
   "pygments_lexer": "ipython3",
   "version": "3.10.9"
  }
 },
 "nbformat": 4,
 "nbformat_minor": 2
}
